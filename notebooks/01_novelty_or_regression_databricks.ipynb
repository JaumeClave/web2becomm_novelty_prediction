{
 "cells": [
  {
   "cell_type": "markdown",
   "source": [
    "# Novelty CS Prediction"
   ],
   "metadata": {
    "application/vnd.databricks.v1+cell": {
     "title": "",
     "showTitle": false,
     "inputWidgets": {},
     "nuid": "8afcd018-a240-4bb5-b318-4046dc108e28"
    },
    "pycharm": {
     "name": "#%% md\n"
    }
   }
  },
  {
   "cell_type": "code",
   "execution_count": 1,
   "outputs": [],
   "source": [
    "import pandas"
   ],
   "metadata": {
    "collapsed": false,
    "pycharm": {
     "name": "#%%\n"
    }
   }
  },
  {
   "cell_type": "code",
   "execution_count": 2,
   "outputs": [],
   "source": [
    "import seaborn"
   ],
   "metadata": {
    "collapsed": false,
    "pycharm": {
     "name": "#%%\n"
    }
   }
  },
  {
   "cell_type": "code",
   "source": [
    "import pandas as pd\n",
    "import sklearn\n",
    "\n",
    "pd.options.display.float_format = '{:20,.2f}'.format"
   ],
   "metadata": {
    "application/vnd.databricks.v1+cell": {
     "title": "",
     "showTitle": false,
     "inputWidgets": {},
     "nuid": "48419d2d-393b-48eb-9554-7558ce6f7f1f"
    },
    "pycharm": {
     "name": "#%%\n"
    }
   },
   "outputs": [],
   "execution_count": 3
  },
  {
   "cell_type": "markdown",
   "source": [
    "## Data Load"
   ],
   "metadata": {
    "application/vnd.databricks.v1+cell": {
     "title": "",
     "showTitle": false,
     "inputWidgets": {},
     "nuid": "26ad332e-fd53-44a5-bb5d-b287d8886417"
    },
    "pycharm": {
     "name": "#%% md\n"
    }
   }
  },
  {
   "cell_type": "code",
   "execution_count": 4,
   "outputs": [
    {
     "name": "stdout",
     "output_type": "stream",
     "text": [
      "2\n"
     ]
    }
   ],
   "source": [
    "print(\"2\")\n"
   ],
   "metadata": {
    "collapsed": false,
    "pycharm": {
     "name": "#%%\n"
    }
   }
  },
  {
   "cell_type": "code",
   "source": [
    "novelty_data = pd.read_csv(\"/dbfs/FileStore/shared_uploads/jaume.domenech@LEGO.com/novelty_features_and_ordered_revenue.csv\")\n",
    "novelty_data "
   ],
   "metadata": {
    "application/vnd.databricks.v1+cell": {
     "title": "",
     "showTitle": false,
     "inputWidgets": {},
     "nuid": "82a96fb3-f79e-4943-890b-0487750e6272"
    },
    "pycharm": {
     "name": "#%%\n"
    }
   },
   "outputs": [
    {
     "ename": "FileNotFoundError",
     "evalue": "[Errno 2] No such file or directory: '/dbfs/FileStore/shared_uploads/jaume.domenech@LEGO.com/novelty_features_and_ordered_revenue.csv'",
     "output_type": "error",
     "traceback": [
      "\u001B[1;31m---------------------------------------------------------------------------\u001B[0m",
      "\u001B[1;31mFileNotFoundError\u001B[0m                         Traceback (most recent call last)",
      "Cell \u001B[1;32mIn [6], line 1\u001B[0m\n\u001B[1;32m----> 1\u001B[0m novelty_data \u001B[38;5;241m=\u001B[39m \u001B[43mpd\u001B[49m\u001B[38;5;241;43m.\u001B[39;49m\u001B[43mread_csv\u001B[49m\u001B[43m(\u001B[49m\u001B[38;5;124;43m\"\u001B[39;49m\u001B[38;5;124;43m/dbfs/FileStore/shared_uploads/jaume.domenech@LEGO.com/novelty_features_and_ordered_revenue.csv\u001B[39;49m\u001B[38;5;124;43m\"\u001B[39;49m\u001B[43m)\u001B[49m\n\u001B[0;32m      2\u001B[0m novelty_data\n",
      "File \u001B[1;32mC:\\Users\\gbjaudom\\OneDrive - LEGO\\Documents\\python_projects\\novelty_prediction\\SKU Squad\\venv_sku_squad\\lib\\site-packages\\pandas\\util\\_decorators.py:311\u001B[0m, in \u001B[0;36mdeprecate_nonkeyword_arguments.<locals>.decorate.<locals>.wrapper\u001B[1;34m(*args, **kwargs)\u001B[0m\n\u001B[0;32m    305\u001B[0m \u001B[38;5;28;01mif\u001B[39;00m \u001B[38;5;28mlen\u001B[39m(args) \u001B[38;5;241m>\u001B[39m num_allow_args:\n\u001B[0;32m    306\u001B[0m     warnings\u001B[38;5;241m.\u001B[39mwarn(\n\u001B[0;32m    307\u001B[0m         msg\u001B[38;5;241m.\u001B[39mformat(arguments\u001B[38;5;241m=\u001B[39marguments),\n\u001B[0;32m    308\u001B[0m         \u001B[38;5;167;01mFutureWarning\u001B[39;00m,\n\u001B[0;32m    309\u001B[0m         stacklevel\u001B[38;5;241m=\u001B[39mstacklevel,\n\u001B[0;32m    310\u001B[0m     )\n\u001B[1;32m--> 311\u001B[0m \u001B[38;5;28;01mreturn\u001B[39;00m func(\u001B[38;5;241m*\u001B[39margs, \u001B[38;5;241m*\u001B[39m\u001B[38;5;241m*\u001B[39mkwargs)\n",
      "File \u001B[1;32mC:\\Users\\gbjaudom\\OneDrive - LEGO\\Documents\\python_projects\\novelty_prediction\\SKU Squad\\venv_sku_squad\\lib\\site-packages\\pandas\\io\\parsers\\readers.py:678\u001B[0m, in \u001B[0;36mread_csv\u001B[1;34m(filepath_or_buffer, sep, delimiter, header, names, index_col, usecols, squeeze, prefix, mangle_dupe_cols, dtype, engine, converters, true_values, false_values, skipinitialspace, skiprows, skipfooter, nrows, na_values, keep_default_na, na_filter, verbose, skip_blank_lines, parse_dates, infer_datetime_format, keep_date_col, date_parser, dayfirst, cache_dates, iterator, chunksize, compression, thousands, decimal, lineterminator, quotechar, quoting, doublequote, escapechar, comment, encoding, encoding_errors, dialect, error_bad_lines, warn_bad_lines, on_bad_lines, delim_whitespace, low_memory, memory_map, float_precision, storage_options)\u001B[0m\n\u001B[0;32m    663\u001B[0m kwds_defaults \u001B[38;5;241m=\u001B[39m _refine_defaults_read(\n\u001B[0;32m    664\u001B[0m     dialect,\n\u001B[0;32m    665\u001B[0m     delimiter,\n\u001B[1;32m   (...)\u001B[0m\n\u001B[0;32m    674\u001B[0m     defaults\u001B[38;5;241m=\u001B[39m{\u001B[38;5;124m\"\u001B[39m\u001B[38;5;124mdelimiter\u001B[39m\u001B[38;5;124m\"\u001B[39m: \u001B[38;5;124m\"\u001B[39m\u001B[38;5;124m,\u001B[39m\u001B[38;5;124m\"\u001B[39m},\n\u001B[0;32m    675\u001B[0m )\n\u001B[0;32m    676\u001B[0m kwds\u001B[38;5;241m.\u001B[39mupdate(kwds_defaults)\n\u001B[1;32m--> 678\u001B[0m \u001B[38;5;28;01mreturn\u001B[39;00m \u001B[43m_read\u001B[49m\u001B[43m(\u001B[49m\u001B[43mfilepath_or_buffer\u001B[49m\u001B[43m,\u001B[49m\u001B[43m \u001B[49m\u001B[43mkwds\u001B[49m\u001B[43m)\u001B[49m\n",
      "File \u001B[1;32mC:\\Users\\gbjaudom\\OneDrive - LEGO\\Documents\\python_projects\\novelty_prediction\\SKU Squad\\venv_sku_squad\\lib\\site-packages\\pandas\\io\\parsers\\readers.py:575\u001B[0m, in \u001B[0;36m_read\u001B[1;34m(filepath_or_buffer, kwds)\u001B[0m\n\u001B[0;32m    572\u001B[0m _validate_names(kwds\u001B[38;5;241m.\u001B[39mget(\u001B[38;5;124m\"\u001B[39m\u001B[38;5;124mnames\u001B[39m\u001B[38;5;124m\"\u001B[39m, \u001B[38;5;28;01mNone\u001B[39;00m))\n\u001B[0;32m    574\u001B[0m \u001B[38;5;66;03m# Create the parser.\u001B[39;00m\n\u001B[1;32m--> 575\u001B[0m parser \u001B[38;5;241m=\u001B[39m TextFileReader(filepath_or_buffer, \u001B[38;5;241m*\u001B[39m\u001B[38;5;241m*\u001B[39mkwds)\n\u001B[0;32m    577\u001B[0m \u001B[38;5;28;01mif\u001B[39;00m chunksize \u001B[38;5;129;01mor\u001B[39;00m iterator:\n\u001B[0;32m    578\u001B[0m     \u001B[38;5;28;01mreturn\u001B[39;00m parser\n",
      "File \u001B[1;32mC:\\Users\\gbjaudom\\OneDrive - LEGO\\Documents\\python_projects\\novelty_prediction\\SKU Squad\\venv_sku_squad\\lib\\site-packages\\pandas\\io\\parsers\\readers.py:932\u001B[0m, in \u001B[0;36mTextFileReader.__init__\u001B[1;34m(self, f, engine, **kwds)\u001B[0m\n\u001B[0;32m    929\u001B[0m     \u001B[38;5;28mself\u001B[39m\u001B[38;5;241m.\u001B[39moptions[\u001B[38;5;124m\"\u001B[39m\u001B[38;5;124mhas_index_names\u001B[39m\u001B[38;5;124m\"\u001B[39m] \u001B[38;5;241m=\u001B[39m kwds[\u001B[38;5;124m\"\u001B[39m\u001B[38;5;124mhas_index_names\u001B[39m\u001B[38;5;124m\"\u001B[39m]\n\u001B[0;32m    931\u001B[0m \u001B[38;5;28mself\u001B[39m\u001B[38;5;241m.\u001B[39mhandles: IOHandles \u001B[38;5;241m|\u001B[39m \u001B[38;5;28;01mNone\u001B[39;00m \u001B[38;5;241m=\u001B[39m \u001B[38;5;28;01mNone\u001B[39;00m\n\u001B[1;32m--> 932\u001B[0m \u001B[38;5;28mself\u001B[39m\u001B[38;5;241m.\u001B[39m_engine \u001B[38;5;241m=\u001B[39m \u001B[38;5;28;43mself\u001B[39;49m\u001B[38;5;241;43m.\u001B[39;49m\u001B[43m_make_engine\u001B[49m\u001B[43m(\u001B[49m\u001B[43mf\u001B[49m\u001B[43m,\u001B[49m\u001B[43m \u001B[49m\u001B[38;5;28;43mself\u001B[39;49m\u001B[38;5;241;43m.\u001B[39;49m\u001B[43mengine\u001B[49m\u001B[43m)\u001B[49m\n",
      "File \u001B[1;32mC:\\Users\\gbjaudom\\OneDrive - LEGO\\Documents\\python_projects\\novelty_prediction\\SKU Squad\\venv_sku_squad\\lib\\site-packages\\pandas\\io\\parsers\\readers.py:1216\u001B[0m, in \u001B[0;36mTextFileReader._make_engine\u001B[1;34m(self, f, engine)\u001B[0m\n\u001B[0;32m   1212\u001B[0m     mode \u001B[38;5;241m=\u001B[39m \u001B[38;5;124m\"\u001B[39m\u001B[38;5;124mrb\u001B[39m\u001B[38;5;124m\"\u001B[39m\n\u001B[0;32m   1213\u001B[0m \u001B[38;5;66;03m# error: No overload variant of \"get_handle\" matches argument types\u001B[39;00m\n\u001B[0;32m   1214\u001B[0m \u001B[38;5;66;03m# \"Union[str, PathLike[str], ReadCsvBuffer[bytes], ReadCsvBuffer[str]]\"\u001B[39;00m\n\u001B[0;32m   1215\u001B[0m \u001B[38;5;66;03m# , \"str\", \"bool\", \"Any\", \"Any\", \"Any\", \"Any\", \"Any\"\u001B[39;00m\n\u001B[1;32m-> 1216\u001B[0m \u001B[38;5;28mself\u001B[39m\u001B[38;5;241m.\u001B[39mhandles \u001B[38;5;241m=\u001B[39m \u001B[43mget_handle\u001B[49m\u001B[43m(\u001B[49m\u001B[43m  \u001B[49m\u001B[38;5;66;43;03m# type: ignore[call-overload]\u001B[39;49;00m\n\u001B[0;32m   1217\u001B[0m \u001B[43m    \u001B[49m\u001B[43mf\u001B[49m\u001B[43m,\u001B[49m\n\u001B[0;32m   1218\u001B[0m \u001B[43m    \u001B[49m\u001B[43mmode\u001B[49m\u001B[43m,\u001B[49m\n\u001B[0;32m   1219\u001B[0m \u001B[43m    \u001B[49m\u001B[43mencoding\u001B[49m\u001B[38;5;241;43m=\u001B[39;49m\u001B[38;5;28;43mself\u001B[39;49m\u001B[38;5;241;43m.\u001B[39;49m\u001B[43moptions\u001B[49m\u001B[38;5;241;43m.\u001B[39;49m\u001B[43mget\u001B[49m\u001B[43m(\u001B[49m\u001B[38;5;124;43m\"\u001B[39;49m\u001B[38;5;124;43mencoding\u001B[39;49m\u001B[38;5;124;43m\"\u001B[39;49m\u001B[43m,\u001B[49m\u001B[43m \u001B[49m\u001B[38;5;28;43;01mNone\u001B[39;49;00m\u001B[43m)\u001B[49m\u001B[43m,\u001B[49m\n\u001B[0;32m   1220\u001B[0m \u001B[43m    \u001B[49m\u001B[43mcompression\u001B[49m\u001B[38;5;241;43m=\u001B[39;49m\u001B[38;5;28;43mself\u001B[39;49m\u001B[38;5;241;43m.\u001B[39;49m\u001B[43moptions\u001B[49m\u001B[38;5;241;43m.\u001B[39;49m\u001B[43mget\u001B[49m\u001B[43m(\u001B[49m\u001B[38;5;124;43m\"\u001B[39;49m\u001B[38;5;124;43mcompression\u001B[39;49m\u001B[38;5;124;43m\"\u001B[39;49m\u001B[43m,\u001B[49m\u001B[43m \u001B[49m\u001B[38;5;28;43;01mNone\u001B[39;49;00m\u001B[43m)\u001B[49m\u001B[43m,\u001B[49m\n\u001B[0;32m   1221\u001B[0m \u001B[43m    \u001B[49m\u001B[43mmemory_map\u001B[49m\u001B[38;5;241;43m=\u001B[39;49m\u001B[38;5;28;43mself\u001B[39;49m\u001B[38;5;241;43m.\u001B[39;49m\u001B[43moptions\u001B[49m\u001B[38;5;241;43m.\u001B[39;49m\u001B[43mget\u001B[49m\u001B[43m(\u001B[49m\u001B[38;5;124;43m\"\u001B[39;49m\u001B[38;5;124;43mmemory_map\u001B[39;49m\u001B[38;5;124;43m\"\u001B[39;49m\u001B[43m,\u001B[49m\u001B[43m \u001B[49m\u001B[38;5;28;43;01mFalse\u001B[39;49;00m\u001B[43m)\u001B[49m\u001B[43m,\u001B[49m\n\u001B[0;32m   1222\u001B[0m \u001B[43m    \u001B[49m\u001B[43mis_text\u001B[49m\u001B[38;5;241;43m=\u001B[39;49m\u001B[43mis_text\u001B[49m\u001B[43m,\u001B[49m\n\u001B[0;32m   1223\u001B[0m \u001B[43m    \u001B[49m\u001B[43merrors\u001B[49m\u001B[38;5;241;43m=\u001B[39;49m\u001B[38;5;28;43mself\u001B[39;49m\u001B[38;5;241;43m.\u001B[39;49m\u001B[43moptions\u001B[49m\u001B[38;5;241;43m.\u001B[39;49m\u001B[43mget\u001B[49m\u001B[43m(\u001B[49m\u001B[38;5;124;43m\"\u001B[39;49m\u001B[38;5;124;43mencoding_errors\u001B[39;49m\u001B[38;5;124;43m\"\u001B[39;49m\u001B[43m,\u001B[49m\u001B[43m \u001B[49m\u001B[38;5;124;43m\"\u001B[39;49m\u001B[38;5;124;43mstrict\u001B[39;49m\u001B[38;5;124;43m\"\u001B[39;49m\u001B[43m)\u001B[49m\u001B[43m,\u001B[49m\n\u001B[0;32m   1224\u001B[0m \u001B[43m    \u001B[49m\u001B[43mstorage_options\u001B[49m\u001B[38;5;241;43m=\u001B[39;49m\u001B[38;5;28;43mself\u001B[39;49m\u001B[38;5;241;43m.\u001B[39;49m\u001B[43moptions\u001B[49m\u001B[38;5;241;43m.\u001B[39;49m\u001B[43mget\u001B[49m\u001B[43m(\u001B[49m\u001B[38;5;124;43m\"\u001B[39;49m\u001B[38;5;124;43mstorage_options\u001B[39;49m\u001B[38;5;124;43m\"\u001B[39;49m\u001B[43m,\u001B[49m\u001B[43m \u001B[49m\u001B[38;5;28;43;01mNone\u001B[39;49;00m\u001B[43m)\u001B[49m\u001B[43m,\u001B[49m\n\u001B[0;32m   1225\u001B[0m \u001B[43m\u001B[49m\u001B[43m)\u001B[49m\n\u001B[0;32m   1226\u001B[0m \u001B[38;5;28;01massert\u001B[39;00m \u001B[38;5;28mself\u001B[39m\u001B[38;5;241m.\u001B[39mhandles \u001B[38;5;129;01mis\u001B[39;00m \u001B[38;5;129;01mnot\u001B[39;00m \u001B[38;5;28;01mNone\u001B[39;00m\n\u001B[0;32m   1227\u001B[0m f \u001B[38;5;241m=\u001B[39m \u001B[38;5;28mself\u001B[39m\u001B[38;5;241m.\u001B[39mhandles\u001B[38;5;241m.\u001B[39mhandle\n",
      "File \u001B[1;32mC:\\Users\\gbjaudom\\OneDrive - LEGO\\Documents\\python_projects\\novelty_prediction\\SKU Squad\\venv_sku_squad\\lib\\site-packages\\pandas\\io\\common.py:786\u001B[0m, in \u001B[0;36mget_handle\u001B[1;34m(path_or_buf, mode, encoding, compression, memory_map, is_text, errors, storage_options)\u001B[0m\n\u001B[0;32m    781\u001B[0m \u001B[38;5;28;01melif\u001B[39;00m \u001B[38;5;28misinstance\u001B[39m(handle, \u001B[38;5;28mstr\u001B[39m):\n\u001B[0;32m    782\u001B[0m     \u001B[38;5;66;03m# Check whether the filename is to be opened in binary mode.\u001B[39;00m\n\u001B[0;32m    783\u001B[0m     \u001B[38;5;66;03m# Binary mode does not support 'encoding' and 'newline'.\u001B[39;00m\n\u001B[0;32m    784\u001B[0m     \u001B[38;5;28;01mif\u001B[39;00m ioargs\u001B[38;5;241m.\u001B[39mencoding \u001B[38;5;129;01mand\u001B[39;00m \u001B[38;5;124m\"\u001B[39m\u001B[38;5;124mb\u001B[39m\u001B[38;5;124m\"\u001B[39m \u001B[38;5;129;01mnot\u001B[39;00m \u001B[38;5;129;01min\u001B[39;00m ioargs\u001B[38;5;241m.\u001B[39mmode:\n\u001B[0;32m    785\u001B[0m         \u001B[38;5;66;03m# Encoding\u001B[39;00m\n\u001B[1;32m--> 786\u001B[0m         handle \u001B[38;5;241m=\u001B[39m \u001B[38;5;28;43mopen\u001B[39;49m\u001B[43m(\u001B[49m\n\u001B[0;32m    787\u001B[0m \u001B[43m            \u001B[49m\u001B[43mhandle\u001B[49m\u001B[43m,\u001B[49m\n\u001B[0;32m    788\u001B[0m \u001B[43m            \u001B[49m\u001B[43mioargs\u001B[49m\u001B[38;5;241;43m.\u001B[39;49m\u001B[43mmode\u001B[49m\u001B[43m,\u001B[49m\n\u001B[0;32m    789\u001B[0m \u001B[43m            \u001B[49m\u001B[43mencoding\u001B[49m\u001B[38;5;241;43m=\u001B[39;49m\u001B[43mioargs\u001B[49m\u001B[38;5;241;43m.\u001B[39;49m\u001B[43mencoding\u001B[49m\u001B[43m,\u001B[49m\n\u001B[0;32m    790\u001B[0m \u001B[43m            \u001B[49m\u001B[43merrors\u001B[49m\u001B[38;5;241;43m=\u001B[39;49m\u001B[43merrors\u001B[49m\u001B[43m,\u001B[49m\n\u001B[0;32m    791\u001B[0m \u001B[43m            \u001B[49m\u001B[43mnewline\u001B[49m\u001B[38;5;241;43m=\u001B[39;49m\u001B[38;5;124;43m\"\u001B[39;49m\u001B[38;5;124;43m\"\u001B[39;49m\u001B[43m,\u001B[49m\n\u001B[0;32m    792\u001B[0m \u001B[43m        \u001B[49m\u001B[43m)\u001B[49m\n\u001B[0;32m    793\u001B[0m     \u001B[38;5;28;01melse\u001B[39;00m:\n\u001B[0;32m    794\u001B[0m         \u001B[38;5;66;03m# Binary mode\u001B[39;00m\n\u001B[0;32m    795\u001B[0m         handle \u001B[38;5;241m=\u001B[39m \u001B[38;5;28mopen\u001B[39m(handle, ioargs\u001B[38;5;241m.\u001B[39mmode)\n",
      "\u001B[1;31mFileNotFoundError\u001B[0m: [Errno 2] No such file or directory: '/dbfs/FileStore/shared_uploads/jaume.domenech@LEGO.com/novelty_features_and_ordered_revenue.csv'"
     ]
    }
   ],
   "execution_count": 6
  },
  {
   "cell_type": "code",
   "source": [
    "# Checking for NULLs. NULLs sit in RRP - When there is more time we can replace NULLs by the average RRP of the COMMs theme\n",
    "novelty_data.isnull().sum()"
   ],
   "metadata": {
    "application/vnd.databricks.v1+cell": {
     "title": "",
     "showTitle": false,
     "inputWidgets": {},
     "nuid": "27c6a336-f9ce-4f37-9566-f5fc9100047b"
    },
    "pycharm": {
     "name": "#%%\n"
    }
   },
   "outputs": [
    {
     "output_type": "display_data",
     "metadata": {
      "application/vnd.databricks.v1+output": {
       "datasetInfos": [],
       "data": "<div class=\"ansiout\">Out[61]: communication_no                  0\nglobal_launch_date                0\niso_week_year                     0\niso_445_month                     0\niso_week                          0\ntheme                             0\nrrp                               8\nrrp_group                         8\nproduct_age_txt                   0\nsuper_segment_txt                 0\nproduct_audience_txt              0\npassion_point_main_text           0\npassion_point_alternative_text    0\npiece_count_of_fg                 0\nip_partner_txt                    0\ncomms                             0\norg_asin                          0\nor_7day                           1\nor_14day                          0\nor_30day                          1\ndtype: int64</div>",
       "removedWidgets": [],
       "addedWidgets": {},
       "metadata": {},
       "type": "html",
       "arguments": {}
      }
     },
     "data": {
      "text/html": [
       "<style scoped>\n  .ansiout {\n    display: block;\n    unicode-bidi: embed;\n    white-space: pre-wrap;\n    word-wrap: break-word;\n    word-break: break-all;\n    font-family: \"Source Code Pro\", \"Menlo\", monospace;;\n    font-size: 13px;\n    color: #555;\n    margin-left: 4px;\n    line-height: 19px;\n  }\n</style>\n<div class=\"ansiout\">Out[61]: communication_no                  0\nglobal_launch_date                0\niso_week_year                     0\niso_445_month                     0\niso_week                          0\ntheme                             0\nrrp                               8\nrrp_group                         8\nproduct_age_txt                   0\nsuper_segment_txt                 0\nproduct_audience_txt              0\npassion_point_main_text           0\npassion_point_alternative_text    0\npiece_count_of_fg                 0\nip_partner_txt                    0\ncomms                             0\norg_asin                          0\nor_7day                           1\nor_14day                          0\nor_30day                          1\ndtype: int64</div>"
      ]
     }
    }
   ],
   "execution_count": 0
  },
  {
   "cell_type": "code",
   "source": [
    "novelty_data = novelty_data.dropna()\n",
    "len(novelty_data)"
   ],
   "metadata": {
    "application/vnd.databricks.v1+cell": {
     "title": "",
     "showTitle": false,
     "inputWidgets": {},
     "nuid": "b011304e-059a-45ae-8484-2805a42ecac3"
    },
    "pycharm": {
     "name": "#%%\n"
    }
   },
   "outputs": [
    {
     "output_type": "display_data",
     "metadata": {
      "application/vnd.databricks.v1+output": {
       "datasetInfos": [],
       "data": "<div class=\"ansiout\">Out[62]: 287</div>",
       "removedWidgets": [],
       "addedWidgets": {},
       "metadata": {},
       "type": "html",
       "arguments": {}
      }
     },
     "data": {
      "text/html": [
       "<style scoped>\n  .ansiout {\n    display: block;\n    unicode-bidi: embed;\n    white-space: pre-wrap;\n    word-wrap: break-word;\n    word-break: break-all;\n    font-family: \"Source Code Pro\", \"Menlo\", monospace;;\n    font-size: 13px;\n    color: #555;\n    margin-left: 4px;\n    line-height: 19px;\n  }\n</style>\n<div class=\"ansiout\">Out[62]: 287</div>"
      ]
     }
    }
   ],
   "execution_count": 0
  },
  {
   "cell_type": "markdown",
   "source": [
    "## Target & Data"
   ],
   "metadata": {
    "application/vnd.databricks.v1+cell": {
     "title": "",
     "showTitle": false,
     "inputWidgets": {},
     "nuid": "a6cdcb47-df3a-4277-beaa-3365b9a8e2e5"
    },
    "pycharm": {
     "name": "#%% md\n"
    }
   }
  },
  {
   "cell_type": "markdown",
   "source": [
    "### Target Column"
   ],
   "metadata": {
    "application/vnd.databricks.v1+cell": {
     "title": "",
     "showTitle": false,
     "inputWidgets": {},
     "nuid": "14e4b7a3-c3cc-485b-8c19-18d90aa0fca2"
    },
    "pycharm": {
     "name": "#%% md\n"
    }
   }
  },
  {
   "cell_type": "markdown",
   "source": [
    "#### 7Day Ordered Revenue"
   ],
   "metadata": {
    "application/vnd.databricks.v1+cell": {
     "title": "",
     "showTitle": false,
     "inputWidgets": {},
     "nuid": "413a1ea0-674b-4590-9306-8c1a60a9cecb"
    },
    "pycharm": {
     "name": "#%% md\n"
    }
   }
  },
  {
   "cell_type": "code",
   "source": [
    "target_column = \"or_7day\"\n",
    "target = novelty_data[target_column]"
   ],
   "metadata": {
    "application/vnd.databricks.v1+cell": {
     "title": "",
     "showTitle": false,
     "inputWidgets": {},
     "nuid": "2c430085-a395-45ff-a473-3b038e24dbf5"
    },
    "pycharm": {
     "name": "#%%\n"
    }
   },
   "outputs": [
    {
     "output_type": "display_data",
     "metadata": {
      "application/vnd.databricks.v1+output": {
       "datasetInfos": [],
       "data": "<div class=\"ansiout\"></div>",
       "removedWidgets": [],
       "addedWidgets": {},
       "metadata": {},
       "type": "html",
       "arguments": {}
      }
     },
     "data": {
      "text/html": [
       "<style scoped>\n  .ansiout {\n    display: block;\n    unicode-bidi: embed;\n    white-space: pre-wrap;\n    word-wrap: break-word;\n    word-break: break-all;\n    font-family: \"Source Code Pro\", \"Menlo\", monospace;;\n    font-size: 13px;\n    color: #555;\n    margin-left: 4px;\n    line-height: 19px;\n  }\n</style>\n<div class=\"ansiout\"></div>"
      ]
     }
    }
   ],
   "execution_count": 0
  },
  {
   "cell_type": "markdown",
   "source": [
    "### Data"
   ],
   "metadata": {
    "application/vnd.databricks.v1+cell": {
     "title": "",
     "showTitle": false,
     "inputWidgets": {},
     "nuid": "0f573110-cb29-45fd-b5f6-8dd5bb23e604"
    },
    "pycharm": {
     "name": "#%% md\n"
    }
   }
  },
  {
   "cell_type": "code",
   "source": [
    "data = novelty_data.drop(columns = [target_column])\n",
    "\n",
    "# Dropping Global Launch Date & Calendary Year\n",
    "data = data.drop(columns = [\"communication_no\", \"global_launch_date\", \"comms\", \"org_asin\", \"or_14day\", \"or_30day\"])"
   ],
   "metadata": {
    "application/vnd.databricks.v1+cell": {
     "title": "",
     "showTitle": false,
     "inputWidgets": {},
     "nuid": "2c41d2da-916f-4f17-aa70-ccbb5b1b325a"
    },
    "pycharm": {
     "name": "#%%\n"
    }
   },
   "outputs": [
    {
     "output_type": "display_data",
     "metadata": {
      "application/vnd.databricks.v1+output": {
       "datasetInfos": [],
       "data": "<div class=\"ansiout\"></div>",
       "removedWidgets": [],
       "addedWidgets": {},
       "metadata": {},
       "type": "html",
       "arguments": {}
      }
     },
     "data": {
      "text/html": [
       "<style scoped>\n  .ansiout {\n    display: block;\n    unicode-bidi: embed;\n    white-space: pre-wrap;\n    word-wrap: break-word;\n    word-break: break-all;\n    font-family: \"Source Code Pro\", \"Menlo\", monospace;;\n    font-size: 13px;\n    color: #555;\n    margin-left: 4px;\n    line-height: 19px;\n  }\n</style>\n<div class=\"ansiout\"></div>"
      ]
     }
    }
   ],
   "execution_count": 0
  },
  {
   "cell_type": "markdown",
   "source": [
    "## Feature Engineering"
   ],
   "metadata": {
    "application/vnd.databricks.v1+cell": {
     "title": "",
     "showTitle": false,
     "inputWidgets": {},
     "nuid": "e902577c-62ce-40b7-9f91-c8a8b7f0800c"
    },
    "pycharm": {
     "name": "#%% md\n"
    }
   }
  },
  {
   "cell_type": "code",
   "source": [],
   "metadata": {
    "application/vnd.databricks.v1+cell": {
     "title": "",
     "showTitle": false,
     "inputWidgets": {},
     "nuid": "1f2ffa7a-b4aa-41ca-be25-49610eec0b05"
    },
    "pycharm": {
     "name": "#%%\n"
    }
   },
   "outputs": [],
   "execution_count": 0
  },
  {
   "cell_type": "markdown",
   "source": [
    "### Data Types"
   ],
   "metadata": {
    "application/vnd.databricks.v1+cell": {
     "title": "",
     "showTitle": false,
     "inputWidgets": {},
     "nuid": "abd09582-5ae5-4892-a349-fdd657a973c8"
    },
    "pycharm": {
     "name": "#%% md\n"
    }
   }
  },
  {
   "cell_type": "code",
   "source": [
    "data.info()"
   ],
   "metadata": {
    "application/vnd.databricks.v1+cell": {
     "title": "",
     "showTitle": false,
     "inputWidgets": {},
     "nuid": "4d7eb108-c8e6-4b89-bc17-af48c2e4c0c1"
    },
    "pycharm": {
     "name": "#%%\n"
    }
   },
   "outputs": [
    {
     "output_type": "display_data",
     "metadata": {
      "application/vnd.databricks.v1+output": {
       "datasetInfos": [],
       "data": "<div class=\"ansiout\">&lt;class &#39;pandas.core.frame.DataFrame&#39;&gt;\nInt64Index: 287 entries, 0 to 295\nData columns (total 13 columns):\n #   Column                          Non-Null Count  Dtype  \n---  ------                          --------------  -----  \n 0   iso_week_year                   287 non-null    int64  \n 1   iso_445_month                   287 non-null    int64  \n 2   iso_week                        287 non-null    int64  \n 3   theme                           287 non-null    int64  \n 4   rrp                             287 non-null    float64\n 5   rrp_group                       287 non-null    object \n 6   product_age_txt                 287 non-null    object \n 7   super_segment_txt               287 non-null    object \n 8   product_audience_txt            287 non-null    object \n 9   passion_point_main_text         287 non-null    object \n 10  passion_point_alternative_text  287 non-null    object \n 11  piece_count_of_fg               287 non-null    int64  \n 12  ip_partner_txt                  287 non-null    object \ndtypes: float64(1), int64(5), object(7)\nmemory usage: 31.4+ KB\n</div>",
       "removedWidgets": [],
       "addedWidgets": {},
       "metadata": {},
       "type": "html",
       "arguments": {}
      }
     },
     "data": {
      "text/html": [
       "<style scoped>\n  .ansiout {\n    display: block;\n    unicode-bidi: embed;\n    white-space: pre-wrap;\n    word-wrap: break-word;\n    word-break: break-all;\n    font-family: \"Source Code Pro\", \"Menlo\", monospace;;\n    font-size: 13px;\n    color: #555;\n    margin-left: 4px;\n    line-height: 19px;\n  }\n</style>\n<div class=\"ansiout\">&lt;class &#39;pandas.core.frame.DataFrame&#39;&gt;\nInt64Index: 287 entries, 0 to 295\nData columns (total 13 columns):\n #   Column                          Non-Null Count  Dtype  \n---  ------                          --------------  -----  \n 0   iso_week_year                   287 non-null    int64  \n 1   iso_445_month                   287 non-null    int64  \n 2   iso_week                        287 non-null    int64  \n 3   theme                           287 non-null    int64  \n 4   rrp                             287 non-null    float64\n 5   rrp_group                       287 non-null    object \n 6   product_age_txt                 287 non-null    object \n 7   super_segment_txt               287 non-null    object \n 8   product_audience_txt            287 non-null    object \n 9   passion_point_main_text         287 non-null    object \n 10  passion_point_alternative_text  287 non-null    object \n 11  piece_count_of_fg               287 non-null    int64  \n 12  ip_partner_txt                  287 non-null    object \ndtypes: float64(1), int64(5), object(7)\nmemory usage: 31.4+ KB\n</div>"
      ]
     }
    }
   ],
   "execution_count": 0
  },
  {
   "cell_type": "code",
   "source": [
    "numerical_columns = [\"rrp\", \"piece_count_of_fg\"]\n",
    "categorical_columns = [\"iso_week_year\", \"iso_445_month\", \"iso_week\", \"theme\", \"rrp_group\", \"product_age_txt\", \"super_segment_txt\", \"product_audience_txt\", \"passion_point_main_text\", \"ip_partner_txt\"]"
   ],
   "metadata": {
    "application/vnd.databricks.v1+cell": {
     "title": "",
     "showTitle": false,
     "inputWidgets": {},
     "nuid": "8302c7f4-badb-412e-a26b-d7f9952bd35a"
    },
    "pycharm": {
     "name": "#%%\n"
    }
   },
   "outputs": [
    {
     "output_type": "display_data",
     "metadata": {
      "application/vnd.databricks.v1+output": {
       "datasetInfos": [],
       "data": "<div class=\"ansiout\"></div>",
       "removedWidgets": [],
       "addedWidgets": {},
       "metadata": {},
       "type": "html",
       "arguments": {}
      }
     },
     "data": {
      "text/html": [
       "<style scoped>\n  .ansiout {\n    display: block;\n    unicode-bidi: embed;\n    white-space: pre-wrap;\n    word-wrap: break-word;\n    word-break: break-all;\n    font-family: \"Source Code Pro\", \"Menlo\", monospace;;\n    font-size: 13px;\n    color: #555;\n    margin-left: 4px;\n    line-height: 19px;\n  }\n</style>\n<div class=\"ansiout\"></div>"
      ]
     }
    }
   ],
   "execution_count": 0
  },
  {
   "cell_type": "markdown",
   "source": [
    "### Preprocessing"
   ],
   "metadata": {
    "application/vnd.databricks.v1+cell": {
     "title": "",
     "showTitle": false,
     "inputWidgets": {},
     "nuid": "82928294-3682-4b31-994a-55eb6c1da60e"
    },
    "pycharm": {
     "name": "#%% md\n"
    }
   }
  },
  {
   "cell_type": "code",
   "source": [
    "from sklearn.preprocessing import OneHotEncoder, StandardScaler\n",
    "\n",
    "categorical_preprocessor = OneHotEncoder(handle_unknown=\"ignore\")\n",
    "numerical_preprocessor = StandardScaler()"
   ],
   "metadata": {
    "application/vnd.databricks.v1+cell": {
     "title": "",
     "showTitle": false,
     "inputWidgets": {},
     "nuid": "7a6190cb-98de-421d-b3e5-a835daded891"
    },
    "pycharm": {
     "name": "#%%\n"
    }
   },
   "outputs": [
    {
     "output_type": "display_data",
     "metadata": {
      "application/vnd.databricks.v1+output": {
       "datasetInfos": [],
       "data": "<div class=\"ansiout\"></div>",
       "removedWidgets": [],
       "addedWidgets": {},
       "metadata": {},
       "type": "html",
       "arguments": {}
      }
     },
     "data": {
      "text/html": [
       "<style scoped>\n  .ansiout {\n    display: block;\n    unicode-bidi: embed;\n    white-space: pre-wrap;\n    word-wrap: break-word;\n    word-break: break-all;\n    font-family: \"Source Code Pro\", \"Menlo\", monospace;;\n    font-size: 13px;\n    color: #555;\n    margin-left: 4px;\n    line-height: 19px;\n  }\n</style>\n<div class=\"ansiout\"></div>"
      ]
     }
    }
   ],
   "execution_count": 0
  },
  {
   "cell_type": "code",
   "source": [
    "from sklearn.compose import ColumnTransformer\n",
    "\n",
    "preprocessor = ColumnTransformer([\n",
    "    ('one-hot-encoder', categorical_preprocessor, categorical_columns),\n",
    "    ('standard_scaler', numerical_preprocessor, numerical_columns)])"
   ],
   "metadata": {
    "application/vnd.databricks.v1+cell": {
     "title": "",
     "showTitle": false,
     "inputWidgets": {},
     "nuid": "7d7a5c07-32f4-46de-a9dc-d040d2e5d32b"
    },
    "pycharm": {
     "name": "#%%\n"
    }
   },
   "outputs": [
    {
     "output_type": "display_data",
     "metadata": {
      "application/vnd.databricks.v1+output": {
       "datasetInfos": [],
       "data": "<div class=\"ansiout\"></div>",
       "removedWidgets": [],
       "addedWidgets": {},
       "metadata": {},
       "type": "html",
       "arguments": {}
      }
     },
     "data": {
      "text/html": [
       "<style scoped>\n  .ansiout {\n    display: block;\n    unicode-bidi: embed;\n    white-space: pre-wrap;\n    word-wrap: break-word;\n    word-break: break-all;\n    font-family: \"Source Code Pro\", \"Menlo\", monospace;;\n    font-size: 13px;\n    color: #555;\n    margin-left: 4px;\n    line-height: 19px;\n  }\n</style>\n<div class=\"ansiout\"></div>"
      ]
     }
    }
   ],
   "execution_count": 0
  },
  {
   "cell_type": "markdown",
   "source": [
    "### Model Building"
   ],
   "metadata": {
    "application/vnd.databricks.v1+cell": {
     "title": "",
     "showTitle": false,
     "inputWidgets": {},
     "nuid": "76104ba2-cd8c-4be6-a6cc-f73ee93bdba9"
    },
    "pycharm": {
     "name": "#%% md\n"
    }
   }
  },
  {
   "cell_type": "code",
   "source": [
    "from sklearn.linear_model import LinearRegression\n",
    "from sklearn.pipeline import make_pipeline\n",
    "\n",
    "model = make_pipeline(preprocessor, LinearRegression())"
   ],
   "metadata": {
    "application/vnd.databricks.v1+cell": {
     "title": "",
     "showTitle": false,
     "inputWidgets": {},
     "nuid": "688ca2aa-e4d9-4628-a285-9a0c7e82d181"
    },
    "pycharm": {
     "name": "#%%\n"
    }
   },
   "outputs": [
    {
     "output_type": "display_data",
     "metadata": {
      "application/vnd.databricks.v1+output": {
       "datasetInfos": [],
       "data": "<div class=\"ansiout\"></div>",
       "removedWidgets": [],
       "addedWidgets": {},
       "metadata": {},
       "type": "html",
       "arguments": {}
      }
     },
     "data": {
      "text/html": [
       "<style scoped>\n  .ansiout {\n    display: block;\n    unicode-bidi: embed;\n    white-space: pre-wrap;\n    word-wrap: break-word;\n    word-break: break-all;\n    font-family: \"Source Code Pro\", \"Menlo\", monospace;;\n    font-size: 13px;\n    color: #555;\n    margin-left: 4px;\n    line-height: 19px;\n  }\n</style>\n<div class=\"ansiout\"></div>"
      ]
     }
    }
   ],
   "execution_count": 0
  },
  {
   "cell_type": "code",
   "source": [
    "from sklearn import set_config\n",
    "set_config(display='diagram')\n",
    "model"
   ],
   "metadata": {
    "application/vnd.databricks.v1+cell": {
     "title": "",
     "showTitle": false,
     "inputWidgets": {},
     "nuid": "9f8ca51f-8587-41a1-8c62-d48b3ada5a4f"
    },
    "pycharm": {
     "name": "#%%\n"
    }
   },
   "outputs": [
    {
     "output_type": "display_data",
     "metadata": {
      "application/vnd.databricks.v1+output": {
       "datasetInfos": [],
       "data": "<div class=\"ansiout\">Out[70]: </div>",
       "removedWidgets": [],
       "addedWidgets": {},
       "metadata": {},
       "type": "html",
       "arguments": {}
      }
     },
     "data": {
      "text/html": [
       "<style scoped>\n  .ansiout {\n    display: block;\n    unicode-bidi: embed;\n    white-space: pre-wrap;\n    word-wrap: break-word;\n    word-break: break-all;\n    font-family: \"Source Code Pro\", \"Menlo\", monospace;;\n    font-size: 13px;\n    color: #555;\n    margin-left: 4px;\n    line-height: 19px;\n  }\n</style>\n<div class=\"ansiout\">Out[70]: </div>"
      ]
     }
    },
    {
     "output_type": "display_data",
     "metadata": {
      "application/vnd.databricks.v1+output": {
       "datasetInfos": [],
       "data": "<style>div.sk-top-container {color: black;background-color: white;}div.sk-toggleable {background-color: white;}label.sk-toggleable__label {cursor: pointer;display: block;width: 100%;margin-bottom: 0;padding: 0.2em 0.3em;box-sizing: border-box;text-align: center;}div.sk-toggleable__content {max-height: 0;max-width: 0;overflow: hidden;text-align: left;background-color: #f0f8ff;}div.sk-toggleable__content pre {margin: 0.2em;color: black;border-radius: 0.25em;background-color: #f0f8ff;}input.sk-toggleable__control:checked~div.sk-toggleable__content {max-height: 200px;max-width: 100%;overflow: auto;}div.sk-estimator input.sk-toggleable__control:checked~label.sk-toggleable__label {background-color: #d4ebff;}div.sk-label input.sk-toggleable__control:checked~label.sk-toggleable__label {background-color: #d4ebff;}input.sk-hidden--visually {border: 0;clip: rect(1px 1px 1px 1px);clip: rect(1px, 1px, 1px, 1px);height: 1px;margin: -1px;overflow: hidden;padding: 0;position: absolute;width: 1px;}div.sk-estimator {font-family: monospace;background-color: #f0f8ff;margin: 0.25em 0.25em;border: 1px dotted black;border-radius: 0.25em;box-sizing: border-box;}div.sk-estimator:hover {background-color: #d4ebff;}div.sk-parallel-item::after {content: \"\";width: 100%;border-bottom: 1px solid gray;flex-grow: 1;}div.sk-label:hover label.sk-toggleable__label {background-color: #d4ebff;}div.sk-serial::before {content: \"\";position: absolute;border-left: 1px solid gray;box-sizing: border-box;top: 2em;bottom: 0;left: 50%;}div.sk-serial {display: flex;flex-direction: column;align-items: center;background-color: white;}div.sk-item {z-index: 1;}div.sk-parallel {display: flex;align-items: stretch;justify-content: center;background-color: white;}div.sk-parallel-item {display: flex;flex-direction: column;position: relative;background-color: white;}div.sk-parallel-item:first-child::after {align-self: flex-end;width: 50%;}div.sk-parallel-item:last-child::after {align-self: flex-start;width: 50%;}div.sk-parallel-item:only-child::after {width: 0;}div.sk-dashed-wrapped {border: 1px dashed gray;margin: 0.2em;box-sizing: border-box;padding-bottom: 0.1em;background-color: white;position: relative;}div.sk-label label {font-family: monospace;font-weight: bold;background-color: white;display: inline-block;line-height: 1.2em;}div.sk-label-container {position: relative;z-index: 2;text-align: center;}div.sk-container {display: inline-block;position: relative;}</style><div class=\"sk-top-container\"><div class=\"sk-container\"><div class=\"sk-item sk-dashed-wrapped\"><div class=\"sk-label-container\"><div class=\"sk-label sk-toggleable\"><input class=\"sk-toggleable__control sk-hidden--visually\" id=\"0b21fdbb-5384-4f72-b7d0-745ebf50eb9d\" type=\"checkbox\" ><label class=\"sk-toggleable__label\" for=\"0b21fdbb-5384-4f72-b7d0-745ebf50eb9d\">Pipeline</label><div class=\"sk-toggleable__content\"><pre>Pipeline(steps=[('columntransformer',\n                 ColumnTransformer(transformers=[('one-hot-encoder',\n                                                  OneHotEncoder(handle_unknown='ignore'),\n                                                  ['iso_week_year',\n                                                   'iso_445_month', 'iso_week',\n                                                   'theme', 'rrp_group',\n                                                   'product_age_txt',\n                                                   'super_segment_txt',\n                                                   'product_audience_txt',\n                                                   'passion_point_main_text',\n                                                   'ip_partner_txt']),\n                                                 ('standard_scaler',\n                                                  StandardScaler(),\n                                                  ['rrp',\n                                                   'piece_count_of_fg'])])),\n                ('linearregression', LinearRegression())])</pre></div></div></div><div class=\"sk-serial\"><div class=\"sk-item sk-dashed-wrapped\"><div class=\"sk-label-container\"><div class=\"sk-label sk-toggleable\"><input class=\"sk-toggleable__control sk-hidden--visually\" id=\"87ed333f-b7cd-4b72-85b4-e1a49ec0c285\" type=\"checkbox\" ><label class=\"sk-toggleable__label\" for=\"87ed333f-b7cd-4b72-85b4-e1a49ec0c285\">columntransformer: ColumnTransformer</label><div class=\"sk-toggleable__content\"><pre>ColumnTransformer(transformers=[('one-hot-encoder',\n                                 OneHotEncoder(handle_unknown='ignore'),\n                                 ['iso_week_year', 'iso_445_month', 'iso_week',\n                                  'theme', 'rrp_group', 'product_age_txt',\n                                  'super_segment_txt', 'product_audience_txt',\n                                  'passion_point_main_text',\n                                  'ip_partner_txt']),\n                                ('standard_scaler', StandardScaler(),\n                                 ['rrp', 'piece_count_of_fg'])])</pre></div></div></div><div class=\"sk-parallel\"><div class=\"sk-parallel-item\"><div class=\"sk-item\"><div class=\"sk-label-container\"><div class=\"sk-label sk-toggleable\"><input class=\"sk-toggleable__control sk-hidden--visually\" id=\"d750d667-6e4f-4d99-81c8-94d6f655ea83\" type=\"checkbox\" ><label class=\"sk-toggleable__label\" for=\"d750d667-6e4f-4d99-81c8-94d6f655ea83\">one-hot-encoder</label><div class=\"sk-toggleable__content\"><pre>['iso_week_year', 'iso_445_month', 'iso_week', 'theme', 'rrp_group', 'product_age_txt', 'super_segment_txt', 'product_audience_txt', 'passion_point_main_text', 'ip_partner_txt']</pre></div></div></div><div class=\"sk-serial\"><div class=\"sk-item\"><div class=\"sk-estimator sk-toggleable\"><input class=\"sk-toggleable__control sk-hidden--visually\" id=\"db99c115-bef1-42b2-9659-5e900312ee16\" type=\"checkbox\" ><label class=\"sk-toggleable__label\" for=\"db99c115-bef1-42b2-9659-5e900312ee16\">OneHotEncoder</label><div class=\"sk-toggleable__content\"><pre>OneHotEncoder(handle_unknown='ignore')</pre></div></div></div></div></div></div><div class=\"sk-parallel-item\"><div class=\"sk-item\"><div class=\"sk-label-container\"><div class=\"sk-label sk-toggleable\"><input class=\"sk-toggleable__control sk-hidden--visually\" id=\"b6ccd7f2-8604-4619-93f0-a93a49ab6b0c\" type=\"checkbox\" ><label class=\"sk-toggleable__label\" for=\"b6ccd7f2-8604-4619-93f0-a93a49ab6b0c\">standard_scaler</label><div class=\"sk-toggleable__content\"><pre>['rrp', 'piece_count_of_fg']</pre></div></div></div><div class=\"sk-serial\"><div class=\"sk-item\"><div class=\"sk-estimator sk-toggleable\"><input class=\"sk-toggleable__control sk-hidden--visually\" id=\"b5133fb8-609d-4869-8ee8-d53e96dfae6b\" type=\"checkbox\" ><label class=\"sk-toggleable__label\" for=\"b5133fb8-609d-4869-8ee8-d53e96dfae6b\">StandardScaler</label><div class=\"sk-toggleable__content\"><pre>StandardScaler()</pre></div></div></div></div></div></div></div></div><div class=\"sk-item\"><div class=\"sk-estimator sk-toggleable\"><input class=\"sk-toggleable__control sk-hidden--visually\" id=\"a0ffbc27-a531-43a0-9671-de5f495c87c1\" type=\"checkbox\" ><label class=\"sk-toggleable__label\" for=\"a0ffbc27-a531-43a0-9671-de5f495c87c1\">LinearRegression</label><div class=\"sk-toggleable__content\"><pre>LinearRegression()</pre></div></div></div></div></div></div></div>",
       "textData": null,
       "removedWidgets": [],
       "addedWidgets": {},
       "metadata": {},
       "type": "htmlSandbox",
       "arguments": {}
      }
     },
     "data": {
      "text/html": [
       "<style>div.sk-top-container {color: black;background-color: white;}div.sk-toggleable {background-color: white;}label.sk-toggleable__label {cursor: pointer;display: block;width: 100%;margin-bottom: 0;padding: 0.2em 0.3em;box-sizing: border-box;text-align: center;}div.sk-toggleable__content {max-height: 0;max-width: 0;overflow: hidden;text-align: left;background-color: #f0f8ff;}div.sk-toggleable__content pre {margin: 0.2em;color: black;border-radius: 0.25em;background-color: #f0f8ff;}input.sk-toggleable__control:checked~div.sk-toggleable__content {max-height: 200px;max-width: 100%;overflow: auto;}div.sk-estimator input.sk-toggleable__control:checked~label.sk-toggleable__label {background-color: #d4ebff;}div.sk-label input.sk-toggleable__control:checked~label.sk-toggleable__label {background-color: #d4ebff;}input.sk-hidden--visually {border: 0;clip: rect(1px 1px 1px 1px);clip: rect(1px, 1px, 1px, 1px);height: 1px;margin: -1px;overflow: hidden;padding: 0;position: absolute;width: 1px;}div.sk-estimator {font-family: monospace;background-color: #f0f8ff;margin: 0.25em 0.25em;border: 1px dotted black;border-radius: 0.25em;box-sizing: border-box;}div.sk-estimator:hover {background-color: #d4ebff;}div.sk-parallel-item::after {content: \"\";width: 100%;border-bottom: 1px solid gray;flex-grow: 1;}div.sk-label:hover label.sk-toggleable__label {background-color: #d4ebff;}div.sk-serial::before {content: \"\";position: absolute;border-left: 1px solid gray;box-sizing: border-box;top: 2em;bottom: 0;left: 50%;}div.sk-serial {display: flex;flex-direction: column;align-items: center;background-color: white;}div.sk-item {z-index: 1;}div.sk-parallel {display: flex;align-items: stretch;justify-content: center;background-color: white;}div.sk-parallel-item {display: flex;flex-direction: column;position: relative;background-color: white;}div.sk-parallel-item:first-child::after {align-self: flex-end;width: 50%;}div.sk-parallel-item:last-child::after {align-self: flex-start;width: 50%;}div.sk-parallel-item:only-child::after {width: 0;}div.sk-dashed-wrapped {border: 1px dashed gray;margin: 0.2em;box-sizing: border-box;padding-bottom: 0.1em;background-color: white;position: relative;}div.sk-label label {font-family: monospace;font-weight: bold;background-color: white;display: inline-block;line-height: 1.2em;}div.sk-label-container {position: relative;z-index: 2;text-align: center;}div.sk-container {display: inline-block;position: relative;}</style><div class=\"sk-top-container\"><div class=\"sk-container\"><div class=\"sk-item sk-dashed-wrapped\"><div class=\"sk-label-container\"><div class=\"sk-label sk-toggleable\"><input class=\"sk-toggleable__control sk-hidden--visually\" id=\"0b21fdbb-5384-4f72-b7d0-745ebf50eb9d\" type=\"checkbox\" ><label class=\"sk-toggleable__label\" for=\"0b21fdbb-5384-4f72-b7d0-745ebf50eb9d\">Pipeline</label><div class=\"sk-toggleable__content\"><pre>Pipeline(steps=[('columntransformer',\n                 ColumnTransformer(transformers=[('one-hot-encoder',\n                                                  OneHotEncoder(handle_unknown='ignore'),\n                                                  ['iso_week_year',\n                                                   'iso_445_month', 'iso_week',\n                                                   'theme', 'rrp_group',\n                                                   'product_age_txt',\n                                                   'super_segment_txt',\n                                                   'product_audience_txt',\n                                                   'passion_point_main_text',\n                                                   'ip_partner_txt']),\n                                                 ('standard_scaler',\n                                                  StandardScaler(),\n                                                  ['rrp',\n                                                   'piece_count_of_fg'])])),\n                ('linearregression', LinearRegression())])</pre></div></div></div><div class=\"sk-serial\"><div class=\"sk-item sk-dashed-wrapped\"><div class=\"sk-label-container\"><div class=\"sk-label sk-toggleable\"><input class=\"sk-toggleable__control sk-hidden--visually\" id=\"87ed333f-b7cd-4b72-85b4-e1a49ec0c285\" type=\"checkbox\" ><label class=\"sk-toggleable__label\" for=\"87ed333f-b7cd-4b72-85b4-e1a49ec0c285\">columntransformer: ColumnTransformer</label><div class=\"sk-toggleable__content\"><pre>ColumnTransformer(transformers=[('one-hot-encoder',\n                                 OneHotEncoder(handle_unknown='ignore'),\n                                 ['iso_week_year', 'iso_445_month', 'iso_week',\n                                  'theme', 'rrp_group', 'product_age_txt',\n                                  'super_segment_txt', 'product_audience_txt',\n                                  'passion_point_main_text',\n                                  'ip_partner_txt']),\n                                ('standard_scaler', StandardScaler(),\n                                 ['rrp', 'piece_count_of_fg'])])</pre></div></div></div><div class=\"sk-parallel\"><div class=\"sk-parallel-item\"><div class=\"sk-item\"><div class=\"sk-label-container\"><div class=\"sk-label sk-toggleable\"><input class=\"sk-toggleable__control sk-hidden--visually\" id=\"d750d667-6e4f-4d99-81c8-94d6f655ea83\" type=\"checkbox\" ><label class=\"sk-toggleable__label\" for=\"d750d667-6e4f-4d99-81c8-94d6f655ea83\">one-hot-encoder</label><div class=\"sk-toggleable__content\"><pre>['iso_week_year', 'iso_445_month', 'iso_week', 'theme', 'rrp_group', 'product_age_txt', 'super_segment_txt', 'product_audience_txt', 'passion_point_main_text', 'ip_partner_txt']</pre></div></div></div><div class=\"sk-serial\"><div class=\"sk-item\"><div class=\"sk-estimator sk-toggleable\"><input class=\"sk-toggleable__control sk-hidden--visually\" id=\"db99c115-bef1-42b2-9659-5e900312ee16\" type=\"checkbox\" ><label class=\"sk-toggleable__label\" for=\"db99c115-bef1-42b2-9659-5e900312ee16\">OneHotEncoder</label><div class=\"sk-toggleable__content\"><pre>OneHotEncoder(handle_unknown='ignore')</pre></div></div></div></div></div></div><div class=\"sk-parallel-item\"><div class=\"sk-item\"><div class=\"sk-label-container\"><div class=\"sk-label sk-toggleable\"><input class=\"sk-toggleable__control sk-hidden--visually\" id=\"b6ccd7f2-8604-4619-93f0-a93a49ab6b0c\" type=\"checkbox\" ><label class=\"sk-toggleable__label\" for=\"b6ccd7f2-8604-4619-93f0-a93a49ab6b0c\">standard_scaler</label><div class=\"sk-toggleable__content\"><pre>['rrp', 'piece_count_of_fg']</pre></div></div></div><div class=\"sk-serial\"><div class=\"sk-item\"><div class=\"sk-estimator sk-toggleable\"><input class=\"sk-toggleable__control sk-hidden--visually\" id=\"b5133fb8-609d-4869-8ee8-d53e96dfae6b\" type=\"checkbox\" ><label class=\"sk-toggleable__label\" for=\"b5133fb8-609d-4869-8ee8-d53e96dfae6b\">StandardScaler</label><div class=\"sk-toggleable__content\"><pre>StandardScaler()</pre></div></div></div></div></div></div></div></div><div class=\"sk-item\"><div class=\"sk-estimator sk-toggleable\"><input class=\"sk-toggleable__control sk-hidden--visually\" id=\"a0ffbc27-a531-43a0-9671-de5f495c87c1\" type=\"checkbox\" ><label class=\"sk-toggleable__label\" for=\"a0ffbc27-a531-43a0-9671-de5f495c87c1\">LinearRegression</label><div class=\"sk-toggleable__content\"><pre>LinearRegression()</pre></div></div></div></div></div></div></div>"
      ]
     }
    }
   ],
   "execution_count": 0
  },
  {
   "cell_type": "markdown",
   "source": [
    "#### Train Test Split"
   ],
   "metadata": {
    "application/vnd.databricks.v1+cell": {
     "title": "",
     "showTitle": false,
     "inputWidgets": {},
     "nuid": "cecc169e-d09e-42b8-ab92-e6d42ec7f27f"
    },
    "pycharm": {
     "name": "#%% md\n"
    }
   }
  },
  {
   "cell_type": "code",
   "source": [
    "from sklearn.model_selection import train_test_split\n",
    "\n",
    "data_train, data_test, target_train, target_test = train_test_split(\n",
    "    data, target, random_state=42)"
   ],
   "metadata": {
    "application/vnd.databricks.v1+cell": {
     "title": "",
     "showTitle": false,
     "inputWidgets": {},
     "nuid": "9a356bc0-266a-4c0e-8b23-779126566f04"
    },
    "pycharm": {
     "name": "#%%\n"
    }
   },
   "outputs": [
    {
     "output_type": "display_data",
     "metadata": {
      "application/vnd.databricks.v1+output": {
       "datasetInfos": [],
       "data": "<div class=\"ansiout\"></div>",
       "removedWidgets": [],
       "addedWidgets": {},
       "metadata": {},
       "type": "html",
       "arguments": {}
      }
     },
     "data": {
      "text/html": [
       "<style scoped>\n  .ansiout {\n    display: block;\n    unicode-bidi: embed;\n    white-space: pre-wrap;\n    word-wrap: break-word;\n    word-break: break-all;\n    font-family: \"Source Code Pro\", \"Menlo\", monospace;;\n    font-size: 13px;\n    color: #555;\n    margin-left: 4px;\n    line-height: 19px;\n  }\n</style>\n<div class=\"ansiout\"></div>"
      ]
     }
    }
   ],
   "execution_count": 0
  },
  {
   "cell_type": "code",
   "source": [
    "target_train.head()"
   ],
   "metadata": {
    "application/vnd.databricks.v1+cell": {
     "title": "",
     "showTitle": false,
     "inputWidgets": {},
     "nuid": "df8017cc-f0d5-4510-b403-b993e842baa0"
    },
    "pycharm": {
     "name": "#%%\n"
    }
   },
   "outputs": [
    {
     "output_type": "display_data",
     "metadata": {
      "application/vnd.databricks.v1+output": {
       "datasetInfos": [],
       "data": "<div class=\"ansiout\">Out[72]: 16               12,464.00\n94                1,608.00\n239               2,247.00\n267               5,706.00\n70                4,557.00\nName: or_7day, dtype: float64</div>",
       "removedWidgets": [],
       "addedWidgets": {},
       "metadata": {},
       "type": "html",
       "arguments": {}
      }
     },
     "data": {
      "text/html": [
       "<style scoped>\n  .ansiout {\n    display: block;\n    unicode-bidi: embed;\n    white-space: pre-wrap;\n    word-wrap: break-word;\n    word-break: break-all;\n    font-family: \"Source Code Pro\", \"Menlo\", monospace;;\n    font-size: 13px;\n    color: #555;\n    margin-left: 4px;\n    line-height: 19px;\n  }\n</style>\n<div class=\"ansiout\">Out[72]: 16               12,464.00\n94                1,608.00\n239               2,247.00\n267               5,706.00\n70                4,557.00\nName: or_7day, dtype: float64</div>"
      ]
     }
    }
   ],
   "execution_count": 0
  },
  {
   "cell_type": "code",
   "source": [
    "data_train.head()"
   ],
   "metadata": {
    "application/vnd.databricks.v1+cell": {
     "title": "",
     "showTitle": false,
     "inputWidgets": {},
     "nuid": "f75215c3-423b-461d-a905-1f5140c49e17"
    },
    "pycharm": {
     "name": "#%%\n"
    }
   },
   "outputs": [
    {
     "output_type": "display_data",
     "metadata": {
      "application/vnd.databricks.v1+output": {
       "datasetInfos": [],
       "data": "<div class=\"ansiout\">Out[73]: </div>",
       "removedWidgets": [],
       "addedWidgets": {},
       "metadata": {},
       "type": "html",
       "arguments": {}
      }
     },
     "data": {
      "text/html": [
       "<style scoped>\n  .ansiout {\n    display: block;\n    unicode-bidi: embed;\n    white-space: pre-wrap;\n    word-wrap: break-word;\n    word-break: break-all;\n    font-family: \"Source Code Pro\", \"Menlo\", monospace;;\n    font-size: 13px;\n    color: #555;\n    margin-left: 4px;\n    line-height: 19px;\n  }\n</style>\n<div class=\"ansiout\">Out[73]: </div>"
      ]
     }
    },
    {
     "output_type": "display_data",
     "metadata": {
      "application/vnd.databricks.v1+output": {
       "datasetInfos": [],
       "data": "<div>\n<style scoped>\n    .dataframe tbody tr th:only-of-type {\n        vertical-align: middle;\n    }\n\n    .dataframe tbody tr th {\n        vertical-align: top;\n    }\n\n    .dataframe thead th {\n        text-align: right;\n    }\n</style>\n<table border=\"1\" class=\"dataframe\">\n  <thead>\n    <tr style=\"text-align: right;\">\n      <th></th>\n      <th>iso_week_year</th>\n      <th>iso_445_month</th>\n      <th>iso_week</th>\n      <th>theme</th>\n      <th>rrp</th>\n      <th>rrp_group</th>\n      <th>product_age_txt</th>\n      <th>super_segment_txt</th>\n      <th>product_audience_txt</th>\n      <th>passion_point_main_text</th>\n      <th>passion_point_alternative_text</th>\n      <th>piece_count_of_fg</th>\n      <th>ip_partner_txt</th>\n    </tr>\n  </thead>\n  <tbody>\n    <tr>\n      <th>16</th>\n      <td>2022</td>\n      <td>8</td>\n      <td>31</td>\n      <td>1000020241</td>\n      <td>19.99</td>\n      <td>10-20 EUR</td>\n      <td>8+</td>\n      <td>Boys</td>\n      <td>Boys First</td>\n      <td>Vehicles</td>\n      <td>Vehicles</td>\n      <td>345</td>\n      <td>Universal</td>\n    </tr>\n    <tr>\n      <th>94</th>\n      <td>2021</td>\n      <td>9</td>\n      <td>35</td>\n      <td>1000020005</td>\n      <td>118.48</td>\n      <td>80-150 EUR</td>\n      <td>2-5</td>\n      <td>Preschool</td>\n      <td>Kids 0-2 (DUPLO)</td>\n      <td>Toys and Games</td>\n      <td>Vehicles</td>\n      <td>105</td>\n      <td>LEGO</td>\n    </tr>\n    <tr>\n      <th>239</th>\n      <td>2021</td>\n      <td>9</td>\n      <td>35</td>\n      <td>1000020244</td>\n      <td>39.99</td>\n      <td>20-50 EUR</td>\n      <td>4+</td>\n      <td>Boys</td>\n      <td>Kids 3-5 (4+)</td>\n      <td>Entertainment and Stories</td>\n      <td>Vehicles</td>\n      <td>129</td>\n      <td>Universal</td>\n    </tr>\n    <tr>\n      <th>267</th>\n      <td>2021</td>\n      <td>3</td>\n      <td>9</td>\n      <td>1000020055</td>\n      <td>29.99</td>\n      <td>20-50 EUR</td>\n      <td>6+</td>\n      <td>Girls</td>\n      <td>Girls First</td>\n      <td>Toys and Games</td>\n      <td>Vehicles</td>\n      <td>304</td>\n      <td>LEGO</td>\n    </tr>\n    <tr>\n      <th>70</th>\n      <td>2022</td>\n      <td>3</td>\n      <td>9</td>\n      <td>1000020005</td>\n      <td>89.99</td>\n      <td>80-150 EUR</td>\n      <td>2+</td>\n      <td>Preschool</td>\n      <td>Kids 0-2 (DUPLO)</td>\n      <td>Toys and Games</td>\n      <td>Vehicles</td>\n      <td>117</td>\n      <td>LEGO</td>\n    </tr>\n  </tbody>\n</table>\n</div>",
       "textData": null,
       "removedWidgets": [],
       "addedWidgets": {},
       "metadata": {},
       "type": "htmlSandbox",
       "arguments": {}
      }
     },
     "data": {
      "text/html": [
       "<div>\n<style scoped>\n    .dataframe tbody tr th:only-of-type {\n        vertical-align: middle;\n    }\n\n    .dataframe tbody tr th {\n        vertical-align: top;\n    }\n\n    .dataframe thead th {\n        text-align: right;\n    }\n</style>\n<table border=\"1\" class=\"dataframe\">\n  <thead>\n    <tr style=\"text-align: right;\">\n      <th></th>\n      <th>iso_week_year</th>\n      <th>iso_445_month</th>\n      <th>iso_week</th>\n      <th>theme</th>\n      <th>rrp</th>\n      <th>rrp_group</th>\n      <th>product_age_txt</th>\n      <th>super_segment_txt</th>\n      <th>product_audience_txt</th>\n      <th>passion_point_main_text</th>\n      <th>passion_point_alternative_text</th>\n      <th>piece_count_of_fg</th>\n      <th>ip_partner_txt</th>\n    </tr>\n  </thead>\n  <tbody>\n    <tr>\n      <th>16</th>\n      <td>2022</td>\n      <td>8</td>\n      <td>31</td>\n      <td>1000020241</td>\n      <td>19.99</td>\n      <td>10-20 EUR</td>\n      <td>8+</td>\n      <td>Boys</td>\n      <td>Boys First</td>\n      <td>Vehicles</td>\n      <td>Vehicles</td>\n      <td>345</td>\n      <td>Universal</td>\n    </tr>\n    <tr>\n      <th>94</th>\n      <td>2021</td>\n      <td>9</td>\n      <td>35</td>\n      <td>1000020005</td>\n      <td>118.48</td>\n      <td>80-150 EUR</td>\n      <td>2-5</td>\n      <td>Preschool</td>\n      <td>Kids 0-2 (DUPLO)</td>\n      <td>Toys and Games</td>\n      <td>Vehicles</td>\n      <td>105</td>\n      <td>LEGO</td>\n    </tr>\n    <tr>\n      <th>239</th>\n      <td>2021</td>\n      <td>9</td>\n      <td>35</td>\n      <td>1000020244</td>\n      <td>39.99</td>\n      <td>20-50 EUR</td>\n      <td>4+</td>\n      <td>Boys</td>\n      <td>Kids 3-5 (4+)</td>\n      <td>Entertainment and Stories</td>\n      <td>Vehicles</td>\n      <td>129</td>\n      <td>Universal</td>\n    </tr>\n    <tr>\n      <th>267</th>\n      <td>2021</td>\n      <td>3</td>\n      <td>9</td>\n      <td>1000020055</td>\n      <td>29.99</td>\n      <td>20-50 EUR</td>\n      <td>6+</td>\n      <td>Girls</td>\n      <td>Girls First</td>\n      <td>Toys and Games</td>\n      <td>Vehicles</td>\n      <td>304</td>\n      <td>LEGO</td>\n    </tr>\n    <tr>\n      <th>70</th>\n      <td>2022</td>\n      <td>3</td>\n      <td>9</td>\n      <td>1000020005</td>\n      <td>89.99</td>\n      <td>80-150 EUR</td>\n      <td>2+</td>\n      <td>Preschool</td>\n      <td>Kids 0-2 (DUPLO)</td>\n      <td>Toys and Games</td>\n      <td>Vehicles</td>\n      <td>117</td>\n      <td>LEGO</td>\n    </tr>\n  </tbody>\n</table>\n</div>"
      ]
     }
    }
   ],
   "execution_count": 0
  },
  {
   "cell_type": "code",
   "source": [
    "_ = model.fit(data_train, target_train)"
   ],
   "metadata": {
    "application/vnd.databricks.v1+cell": {
     "title": "",
     "showTitle": false,
     "inputWidgets": {},
     "nuid": "efa20c96-66cf-462d-baf7-e02b5546ca6e"
    },
    "pycharm": {
     "name": "#%%\n"
    }
   },
   "outputs": [
    {
     "output_type": "display_data",
     "metadata": {
      "application/vnd.databricks.v1+output": {
       "datasetInfos": [],
       "data": "<div class=\"ansiout\"></div>",
       "removedWidgets": [],
       "addedWidgets": {},
       "metadata": {},
       "type": "html",
       "arguments": {}
      }
     },
     "data": {
      "text/html": [
       "<style scoped>\n  .ansiout {\n    display: block;\n    unicode-bidi: embed;\n    white-space: pre-wrap;\n    word-wrap: break-word;\n    word-break: break-all;\n    font-family: \"Source Code Pro\", \"Menlo\", monospace;;\n    font-size: 13px;\n    color: #555;\n    margin-left: 4px;\n    line-height: 19px;\n  }\n</style>\n<div class=\"ansiout\"></div>"
      ]
     }
    }
   ],
   "execution_count": 0
  },
  {
   "cell_type": "code",
   "source": [
    "model.score(data_test, target_test)"
   ],
   "metadata": {
    "application/vnd.databricks.v1+cell": {
     "title": "",
     "showTitle": false,
     "inputWidgets": {},
     "nuid": "5f760537-7222-4cdc-9afb-781fecf30152"
    },
    "pycharm": {
     "name": "#%%\n"
    }
   },
   "outputs": [
    {
     "output_type": "display_data",
     "metadata": {
      "application/vnd.databricks.v1+output": {
       "datasetInfos": [],
       "data": "<div class=\"ansiout\">Out[75]: -1.558948763794159</div>",
       "removedWidgets": [],
       "addedWidgets": {},
       "metadata": {},
       "type": "html",
       "arguments": {}
      }
     },
     "data": {
      "text/html": [
       "<style scoped>\n  .ansiout {\n    display: block;\n    unicode-bidi: embed;\n    white-space: pre-wrap;\n    word-wrap: break-word;\n    word-break: break-all;\n    font-family: \"Source Code Pro\", \"Menlo\", monospace;;\n    font-size: 13px;\n    color: #555;\n    margin-left: 4px;\n    line-height: 19px;\n  }\n</style>\n<div class=\"ansiout\">Out[75]: -1.558948763794159</div>"
      ]
     }
    }
   ],
   "execution_count": 0
  },
  {
   "cell_type": "code",
   "source": [
    "test_predict = model.predict(data_test)"
   ],
   "metadata": {
    "application/vnd.databricks.v1+cell": {
     "title": "",
     "showTitle": false,
     "inputWidgets": {},
     "nuid": "c3d2ea3e-9736-48de-8f1d-13c4b6408d32"
    },
    "pycharm": {
     "name": "#%%\n"
    }
   },
   "outputs": [
    {
     "output_type": "display_data",
     "metadata": {
      "application/vnd.databricks.v1+output": {
       "datasetInfos": [],
       "data": "<div class=\"ansiout\"></div>",
       "removedWidgets": [],
       "addedWidgets": {},
       "metadata": {},
       "type": "html",
       "arguments": {}
      }
     },
     "data": {
      "text/html": [
       "<style scoped>\n  .ansiout {\n    display: block;\n    unicode-bidi: embed;\n    white-space: pre-wrap;\n    word-wrap: break-word;\n    word-break: break-all;\n    font-family: \"Source Code Pro\", \"Menlo\", monospace;;\n    font-size: 13px;\n    color: #555;\n    margin-left: 4px;\n    line-height: 19px;\n  }\n</style>\n<div class=\"ansiout\"></div>"
      ]
     }
    }
   ],
   "execution_count": 0
  },
  {
   "cell_type": "code",
   "source": [
    "data_test"
   ],
   "metadata": {
    "application/vnd.databricks.v1+cell": {
     "title": "",
     "showTitle": false,
     "inputWidgets": {},
     "nuid": "d36c8a3e-705e-4a5b-8d98-139cc03d2526"
    },
    "pycharm": {
     "name": "#%%\n"
    }
   },
   "outputs": [
    {
     "output_type": "display_data",
     "metadata": {
      "application/vnd.databricks.v1+output": {
       "datasetInfos": [],
       "data": "<div class=\"ansiout\">Out[78]: </div>",
       "removedWidgets": [],
       "addedWidgets": {},
       "metadata": {},
       "type": "html",
       "arguments": {}
      }
     },
     "data": {
      "text/html": [
       "<style scoped>\n  .ansiout {\n    display: block;\n    unicode-bidi: embed;\n    white-space: pre-wrap;\n    word-wrap: break-word;\n    word-break: break-all;\n    font-family: \"Source Code Pro\", \"Menlo\", monospace;;\n    font-size: 13px;\n    color: #555;\n    margin-left: 4px;\n    line-height: 19px;\n  }\n</style>\n<div class=\"ansiout\">Out[78]: </div>"
      ]
     }
    },
    {
     "output_type": "display_data",
     "metadata": {
      "application/vnd.databricks.v1+output": {
       "datasetInfos": [],
       "data": "<div>\n<style scoped>\n    .dataframe tbody tr th:only-of-type {\n        vertical-align: middle;\n    }\n\n    .dataframe tbody tr th {\n        vertical-align: top;\n    }\n\n    .dataframe thead th {\n        text-align: right;\n    }\n</style>\n<table border=\"1\" class=\"dataframe\">\n  <thead>\n    <tr style=\"text-align: right;\">\n      <th></th>\n      <th>iso_week_year</th>\n      <th>iso_445_month</th>\n      <th>iso_week</th>\n      <th>theme</th>\n      <th>rrp</th>\n      <th>rrp_group</th>\n      <th>product_age_txt</th>\n      <th>super_segment_txt</th>\n      <th>product_audience_txt</th>\n      <th>passion_point_main_text</th>\n      <th>passion_point_alternative_text</th>\n      <th>piece_count_of_fg</th>\n      <th>ip_partner_txt</th>\n    </tr>\n  </thead>\n  <tbody>\n    <tr>\n      <th>9</th>\n      <td>2022</td>\n      <td>3</td>\n      <td>9</td>\n      <td>1000020003</td>\n      <td>9.99</td>\n      <td>0-10 EUR</td>\n      <td>6+</td>\n      <td>Boys</td>\n      <td>Boys First</td>\n      <td>Toys and Games</td>\n      <td>Animals and Nature</td>\n      <td>137</td>\n      <td>LEGO</td>\n    </tr>\n    <tr>\n      <th>263</th>\n      <td>2021</td>\n      <td>6</td>\n      <td>22</td>\n      <td>1000020005</td>\n      <td>29.99</td>\n      <td>20-50 EUR</td>\n      <td>2+</td>\n      <td>Preschool</td>\n      <td>Kids 0-2 (DUPLO)</td>\n      <td>Toys and Games</td>\n      <td>Vehicles</td>\n      <td>28</td>\n      <td>LEGO</td>\n    </tr>\n    <tr>\n      <th>149</th>\n      <td>2022</td>\n      <td>4</td>\n      <td>17</td>\n      <td>1000020056</td>\n      <td>59.99</td>\n      <td>50-80 EUR</td>\n      <td>18+</td>\n      <td>Boys</td>\n      <td>Adult (18+)</td>\n      <td>Entertainment and Stories</td>\n      <td>Vehicles</td>\n      <td>665</td>\n      <td>Disney Star Wars</td>\n    </tr>\n    <tr>\n      <th>221</th>\n      <td>2021</td>\n      <td>3</td>\n      <td>9</td>\n      <td>1000020231</td>\n      <td>29.99</td>\n      <td>20-50 EUR</td>\n      <td>8+</td>\n      <td>Boys</td>\n      <td>Boys First</td>\n      <td>Video Games</td>\n      <td>Animals and Nature</td>\n      <td>287</td>\n      <td>Mojang AB</td>\n    </tr>\n    <tr>\n      <th>238</th>\n      <td>2022</td>\n      <td>3</td>\n      <td>9</td>\n      <td>1000020049</td>\n      <td>9.99</td>\n      <td>0-10 EUR</td>\n      <td>6+</td>\n      <td>Boys</td>\n      <td>Boys First</td>\n      <td>Entertainment and Stories</td>\n      <td>Toys and Games</td>\n      <td>32</td>\n      <td>LEGO</td>\n    </tr>\n    <tr>\n      <th>...</th>\n      <td>...</td>\n      <td>...</td>\n      <td>...</td>\n      <td>...</td>\n      <td>...</td>\n      <td>...</td>\n      <td>...</td>\n      <td>...</td>\n      <td>...</td>\n      <td>...</td>\n      <td>...</td>\n      <td>...</td>\n      <td>...</td>\n    </tr>\n    <tr>\n      <th>15</th>\n      <td>2021</td>\n      <td>12</td>\n      <td>48</td>\n      <td>1000020218</td>\n      <td>19.99</td>\n      <td>10-20 EUR</td>\n      <td>5+</td>\n      <td>Girls</td>\n      <td>Girls First</td>\n      <td>Entertainment and Stories</td>\n      <td>Entertainment and Stories</td>\n      <td>99</td>\n      <td>Disney</td>\n    </tr>\n    <tr>\n      <th>10</th>\n      <td>2021</td>\n      <td>8</td>\n      <td>31</td>\n      <td>1000020056</td>\n      <td>39.99</td>\n      <td>20-50 EUR</td>\n      <td>8+</td>\n      <td>Boys</td>\n      <td>Boys First</td>\n      <td>Entertainment and Stories</td>\n      <td>Vehicles</td>\n      <td>478</td>\n      <td>Disney Star Wars</td>\n    </tr>\n    <tr>\n      <th>71</th>\n      <td>2021</td>\n      <td>12</td>\n      <td>48</td>\n      <td>1000020218</td>\n      <td>19.99</td>\n      <td>10-20 EUR</td>\n      <td>5+</td>\n      <td>Girls</td>\n      <td>Girls First</td>\n      <td>Entertainment and Stories</td>\n      <td>Entertainment and Stories</td>\n      <td>114</td>\n      <td>Disney</td>\n    </tr>\n    <tr>\n      <th>121</th>\n      <td>2022</td>\n      <td>4</td>\n      <td>16</td>\n      <td>1000020244</td>\n      <td>19.99</td>\n      <td>10-20 EUR</td>\n      <td>6+</td>\n      <td>Boys</td>\n      <td>Boys First</td>\n      <td>Entertainment and Stories</td>\n      <td>Animals and Nature</td>\n      <td>169</td>\n      <td>Universal</td>\n    </tr>\n    <tr>\n      <th>39</th>\n      <td>2021</td>\n      <td>3</td>\n      <td>9</td>\n      <td>1000020002</td>\n      <td>29.99</td>\n      <td>20-50 EUR</td>\n      <td>8+</td>\n      <td>Boys</td>\n      <td>Boys First</td>\n      <td>Vehicles</td>\n      <td>Vehicles</td>\n      <td>457</td>\n      <td>LEGO</td>\n    </tr>\n  </tbody>\n</table>\n<p>72 rows × 13 columns</p>\n</div>",
       "textData": null,
       "removedWidgets": [],
       "addedWidgets": {},
       "metadata": {},
       "type": "htmlSandbox",
       "arguments": {}
      }
     },
     "data": {
      "text/html": [
       "<div>\n<style scoped>\n    .dataframe tbody tr th:only-of-type {\n        vertical-align: middle;\n    }\n\n    .dataframe tbody tr th {\n        vertical-align: top;\n    }\n\n    .dataframe thead th {\n        text-align: right;\n    }\n</style>\n<table border=\"1\" class=\"dataframe\">\n  <thead>\n    <tr style=\"text-align: right;\">\n      <th></th>\n      <th>iso_week_year</th>\n      <th>iso_445_month</th>\n      <th>iso_week</th>\n      <th>theme</th>\n      <th>rrp</th>\n      <th>rrp_group</th>\n      <th>product_age_txt</th>\n      <th>super_segment_txt</th>\n      <th>product_audience_txt</th>\n      <th>passion_point_main_text</th>\n      <th>passion_point_alternative_text</th>\n      <th>piece_count_of_fg</th>\n      <th>ip_partner_txt</th>\n    </tr>\n  </thead>\n  <tbody>\n    <tr>\n      <th>9</th>\n      <td>2022</td>\n      <td>3</td>\n      <td>9</td>\n      <td>1000020003</td>\n      <td>9.99</td>\n      <td>0-10 EUR</td>\n      <td>6+</td>\n      <td>Boys</td>\n      <td>Boys First</td>\n      <td>Toys and Games</td>\n      <td>Animals and Nature</td>\n      <td>137</td>\n      <td>LEGO</td>\n    </tr>\n    <tr>\n      <th>263</th>\n      <td>2021</td>\n      <td>6</td>\n      <td>22</td>\n      <td>1000020005</td>\n      <td>29.99</td>\n      <td>20-50 EUR</td>\n      <td>2+</td>\n      <td>Preschool</td>\n      <td>Kids 0-2 (DUPLO)</td>\n      <td>Toys and Games</td>\n      <td>Vehicles</td>\n      <td>28</td>\n      <td>LEGO</td>\n    </tr>\n    <tr>\n      <th>149</th>\n      <td>2022</td>\n      <td>4</td>\n      <td>17</td>\n      <td>1000020056</td>\n      <td>59.99</td>\n      <td>50-80 EUR</td>\n      <td>18+</td>\n      <td>Boys</td>\n      <td>Adult (18+)</td>\n      <td>Entertainment and Stories</td>\n      <td>Vehicles</td>\n      <td>665</td>\n      <td>Disney Star Wars</td>\n    </tr>\n    <tr>\n      <th>221</th>\n      <td>2021</td>\n      <td>3</td>\n      <td>9</td>\n      <td>1000020231</td>\n      <td>29.99</td>\n      <td>20-50 EUR</td>\n      <td>8+</td>\n      <td>Boys</td>\n      <td>Boys First</td>\n      <td>Video Games</td>\n      <td>Animals and Nature</td>\n      <td>287</td>\n      <td>Mojang AB</td>\n    </tr>\n    <tr>\n      <th>238</th>\n      <td>2022</td>\n      <td>3</td>\n      <td>9</td>\n      <td>1000020049</td>\n      <td>9.99</td>\n      <td>0-10 EUR</td>\n      <td>6+</td>\n      <td>Boys</td>\n      <td>Boys First</td>\n      <td>Entertainment and Stories</td>\n      <td>Toys and Games</td>\n      <td>32</td>\n      <td>LEGO</td>\n    </tr>\n    <tr>\n      <th>...</th>\n      <td>...</td>\n      <td>...</td>\n      <td>...</td>\n      <td>...</td>\n      <td>...</td>\n      <td>...</td>\n      <td>...</td>\n      <td>...</td>\n      <td>...</td>\n      <td>...</td>\n      <td>...</td>\n      <td>...</td>\n      <td>...</td>\n    </tr>\n    <tr>\n      <th>15</th>\n      <td>2021</td>\n      <td>12</td>\n      <td>48</td>\n      <td>1000020218</td>\n      <td>19.99</td>\n      <td>10-20 EUR</td>\n      <td>5+</td>\n      <td>Girls</td>\n      <td>Girls First</td>\n      <td>Entertainment and Stories</td>\n      <td>Entertainment and Stories</td>\n      <td>99</td>\n      <td>Disney</td>\n    </tr>\n    <tr>\n      <th>10</th>\n      <td>2021</td>\n      <td>8</td>\n      <td>31</td>\n      <td>1000020056</td>\n      <td>39.99</td>\n      <td>20-50 EUR</td>\n      <td>8+</td>\n      <td>Boys</td>\n      <td>Boys First</td>\n      <td>Entertainment and Stories</td>\n      <td>Vehicles</td>\n      <td>478</td>\n      <td>Disney Star Wars</td>\n    </tr>\n    <tr>\n      <th>71</th>\n      <td>2021</td>\n      <td>12</td>\n      <td>48</td>\n      <td>1000020218</td>\n      <td>19.99</td>\n      <td>10-20 EUR</td>\n      <td>5+</td>\n      <td>Girls</td>\n      <td>Girls First</td>\n      <td>Entertainment and Stories</td>\n      <td>Entertainment and Stories</td>\n      <td>114</td>\n      <td>Disney</td>\n    </tr>\n    <tr>\n      <th>121</th>\n      <td>2022</td>\n      <td>4</td>\n      <td>16</td>\n      <td>1000020244</td>\n      <td>19.99</td>\n      <td>10-20 EUR</td>\n      <td>6+</td>\n      <td>Boys</td>\n      <td>Boys First</td>\n      <td>Entertainment and Stories</td>\n      <td>Animals and Nature</td>\n      <td>169</td>\n      <td>Universal</td>\n    </tr>\n    <tr>\n      <th>39</th>\n      <td>2021</td>\n      <td>3</td>\n      <td>9</td>\n      <td>1000020002</td>\n      <td>29.99</td>\n      <td>20-50 EUR</td>\n      <td>8+</td>\n      <td>Boys</td>\n      <td>Boys First</td>\n      <td>Vehicles</td>\n      <td>Vehicles</td>\n      <td>457</td>\n      <td>LEGO</td>\n    </tr>\n  </tbody>\n</table>\n<p>72 rows × 13 columns</p>\n</div>"
      ]
     }
    }
   ],
   "execution_count": 0
  },
  {
   "cell_type": "code",
   "source": [
    "data_test[\"test_actuals\"] = target_test\n",
    "data_test[\"test_preditct\"] = test_predict"
   ],
   "metadata": {
    "application/vnd.databricks.v1+cell": {
     "title": "",
     "showTitle": false,
     "inputWidgets": {},
     "nuid": "d1c743fd-4641-43a5-b22c-03beb42a0af8"
    },
    "pycharm": {
     "name": "#%%\n"
    }
   },
   "outputs": [
    {
     "output_type": "display_data",
     "metadata": {
      "application/vnd.databricks.v1+output": {
       "datasetInfos": [],
       "data": "<div class=\"ansiout\">&lt;command-3746240018217857&gt;:1: SettingWithCopyWarning: \nA value is trying to be set on a copy of a slice from a DataFrame.\nTry using .loc[row_indexer,col_indexer] = value instead\n\nSee the caveats in the documentation: https://pandas.pydata.org/pandas-docs/stable/user_guide/indexing.html#returning-a-view-versus-a-copy\n  data_test[&#34;test_actuals&#34;] = target_test\n&lt;command-3746240018217857&gt;:2: SettingWithCopyWarning: \nA value is trying to be set on a copy of a slice from a DataFrame.\nTry using .loc[row_indexer,col_indexer] = value instead\n\nSee the caveats in the documentation: https://pandas.pydata.org/pandas-docs/stable/user_guide/indexing.html#returning-a-view-versus-a-copy\n  data_test[&#34;test_preditct&#34;] = test_predict\n</div>",
       "removedWidgets": [],
       "addedWidgets": {},
       "metadata": {},
       "type": "html",
       "arguments": {}
      }
     },
     "data": {
      "text/html": [
       "<style scoped>\n  .ansiout {\n    display: block;\n    unicode-bidi: embed;\n    white-space: pre-wrap;\n    word-wrap: break-word;\n    word-break: break-all;\n    font-family: \"Source Code Pro\", \"Menlo\", monospace;;\n    font-size: 13px;\n    color: #555;\n    margin-left: 4px;\n    line-height: 19px;\n  }\n</style>\n<div class=\"ansiout\">&lt;command-3746240018217857&gt;:1: SettingWithCopyWarning: \nA value is trying to be set on a copy of a slice from a DataFrame.\nTry using .loc[row_indexer,col_indexer] = value instead\n\nSee the caveats in the documentation: https://pandas.pydata.org/pandas-docs/stable/user_guide/indexing.html#returning-a-view-versus-a-copy\n  data_test[&#34;test_actuals&#34;] = target_test\n&lt;command-3746240018217857&gt;:2: SettingWithCopyWarning: \nA value is trying to be set on a copy of a slice from a DataFrame.\nTry using .loc[row_indexer,col_indexer] = value instead\n\nSee the caveats in the documentation: https://pandas.pydata.org/pandas-docs/stable/user_guide/indexing.html#returning-a-view-versus-a-copy\n  data_test[&#34;test_preditct&#34;] = test_predict\n</div>"
      ]
     }
    }
   ],
   "execution_count": 0
  },
  {
   "cell_type": "code",
   "source": [
    "data_test.to_csv(\"/dbfs/FileStore/shared_uploads/jaume.domenech@LEGO.com/data_test.csv\")"
   ],
   "metadata": {
    "application/vnd.databricks.v1+cell": {
     "title": "",
     "showTitle": false,
     "inputWidgets": {},
     "nuid": "8a121111-45da-4657-b9b7-bf9c31cf90cf"
    },
    "pycharm": {
     "name": "#%%\n"
    }
   },
   "outputs": [
    {
     "output_type": "display_data",
     "metadata": {
      "application/vnd.databricks.v1+output": {
       "datasetInfos": [],
       "data": "<div class=\"ansiout\"></div>",
       "removedWidgets": [],
       "addedWidgets": {},
       "metadata": {},
       "type": "html",
       "arguments": {}
      }
     },
     "data": {
      "text/html": [
       "<style scoped>\n  .ansiout {\n    display: block;\n    unicode-bidi: embed;\n    white-space: pre-wrap;\n    word-wrap: break-word;\n    word-break: break-all;\n    font-family: \"Source Code Pro\", \"Menlo\", monospace;;\n    font-size: 13px;\n    color: #555;\n    margin-left: 4px;\n    line-height: 19px;\n  }\n</style>\n<div class=\"ansiout\"></div>"
      ]
     }
    }
   ],
   "execution_count": 0
  },
  {
   "cell_type": "code",
   "source": [
    "%sql\n",
    "select * from data_test;"
   ],
   "metadata": {
    "application/vnd.databricks.v1+cell": {
     "title": "",
     "showTitle": false,
     "inputWidgets": {},
     "nuid": "57ccdbf1-1952-4ba6-a4b0-3884818b1a3a"
    },
    "pycharm": {
     "name": "#%%\n"
    }
   },
   "outputs": [
    {
     "output_type": "display_data",
     "metadata": {
      "application/vnd.databricks.v1+output": {
       "data": "com.databricks.backend.common.rpc.DatabricksExceptions$SQLExecutionException: org.apache.spark.sql.AnalysisException: Table or view not found: data_test; line 1 pos 14;\n'Project [*]\n+- 'UnresolvedRelation [data_test], [], false\n\n\tat org.apache.spark.sql.catalyst.analysis.package$AnalysisErrorAt.failAnalysis(package.scala:47)\n\tat org.apache.spark.sql.catalyst.analysis.CheckAnalysis.$anonfun$checkAnalysis$2(CheckAnalysis.scala:121)\n\tat org.apache.spark.sql.catalyst.analysis.CheckAnalysis.$anonfun$checkAnalysis$2$adapted(CheckAnalysis.scala:99)\n\tat org.apache.spark.sql.catalyst.trees.TreeNode.foreachUp(TreeNode.scala:262)\n\tat org.apache.spark.sql.catalyst.trees.TreeNode.$anonfun$foreachUp$1(TreeNode.scala:261)\n\tat org.apache.spark.sql.catalyst.trees.TreeNode.$anonfun$foreachUp$1$adapted(TreeNode.scala:261)\n\tat scala.collection.Iterator.foreach(Iterator.scala:941)\n\tat scala.collection.Iterator.foreach$(Iterator.scala:941)\n\tat scala.collection.AbstractIterator.foreach(Iterator.scala:1429)\n\tat scala.collection.IterableLike.foreach(IterableLike.scala:74)\n\tat scala.collection.IterableLike.foreach$(IterableLike.scala:73)\n\tat scala.collection.AbstractIterable.foreach(Iterable.scala:56)\n\tat org.apache.spark.sql.catalyst.trees.TreeNode.foreachUp(TreeNode.scala:261)\n\tat org.apache.spark.sql.catalyst.analysis.CheckAnalysis.$anonfun$checkAnalysis$1(CheckAnalysis.scala:99)\n\tat scala.runtime.java8.JFunction0$mcV$sp.apply(JFunction0$mcV$sp.java:23)\n\tat com.databricks.spark.util.FrameProfiler$.record(FrameProfiler.scala:80)\n\tat org.apache.spark.sql.catalyst.analysis.CheckAnalysis.checkAnalysis(CheckAnalysis.scala:96)\n\tat org.apache.spark.sql.catalyst.analysis.CheckAnalysis.checkAnalysis$(CheckAnalysis.scala:96)\n\tat org.apache.spark.sql.catalyst.analysis.Analyzer.checkAnalysis(Analyzer.scala:191)\n\tat org.apache.spark.sql.catalyst.analysis.Analyzer.$anonfun$executeAndCheck$1(Analyzer.scala:248)\n\tat org.apache.spark.sql.catalyst.plans.logical.AnalysisHelper$.markInAnalyzer(AnalysisHelper.scala:347)\n\tat org.apache.spark.sql.catalyst.analysis.Analyzer.executeAndCheck(Analyzer.scala:245)\n\tat org.apache.spark.sql.execution.QueryExecution.$anonfun$analyzed$1(QueryExecution.scala:96)\n\tat com.databricks.spark.util.FrameProfiler$.record(FrameProfiler.scala:80)\n\tat org.apache.spark.sql.catalyst.QueryPlanningTracker.measurePhase(QueryPlanningTracker.scala:134)\n\tat org.apache.spark.sql.execution.QueryExecution.$anonfun$executePhase$1(QueryExecution.scala:180)\n\tat org.apache.spark.sql.SparkSession.withActive(SparkSession.scala:854)\n\tat org.apache.spark.sql.execution.QueryExecution.executePhase(QueryExecution.scala:180)\n\tat org.apache.spark.sql.execution.QueryExecution.analyzed$lzycompute(QueryExecution.scala:97)\n\tat org.apache.spark.sql.execution.QueryExecution.analyzed(QueryExecution.scala:94)\n\tat org.apache.spark.sql.execution.QueryExecution.assertAnalyzed(QueryExecution.scala:86)\n\tat org.apache.spark.sql.Dataset$.$anonfun$ofRows$2(Dataset.scala:103)\n\tat org.apache.spark.sql.SparkSession.withActive(SparkSession.scala:854)\n\tat org.apache.spark.sql.Dataset$.ofRows(Dataset.scala:101)\n\tat org.apache.spark.sql.SparkSession.$anonfun$sql$1(SparkSession.scala:689)\n\tat org.apache.spark.sql.SparkSession.withActive(SparkSession.scala:854)\n\tat org.apache.spark.sql.SparkSession.sql(SparkSession.scala:684)\n\tat org.apache.spark.sql.SQLContext.sql(SQLContext.scala:694)\n\tat com.databricks.backend.daemon.driver.SQLDriverLocal.$anonfun$executeSql$1(SQLDriverLocal.scala:91)\n\tat scala.collection.TraversableLike.$anonfun$map$1(TraversableLike.scala:238)\n\tat scala.collection.immutable.List.foreach(List.scala:392)\n\tat scala.collection.TraversableLike.map(TraversableLike.scala:238)\n\tat scala.collection.TraversableLike.map$(TraversableLike.scala:231)\n\tat scala.collection.immutable.List.map(List.scala:298)\n\tat com.databricks.backend.daemon.driver.SQLDriverLocal.executeSql(SQLDriverLocal.scala:37)\n\tat com.databricks.backend.daemon.driver.SQLDriverLocal.repl(SQLDriverLocal.scala:145)\n\tat com.databricks.backend.daemon.driver.DriverLocal.$anonfun$execute$11(DriverLocal.scala:547)\n\tat com.databricks.logging.UsageLogging.$anonfun$withAttributionContext$1(UsageLogging.scala:266)\n\tat scala.util.DynamicVariable.withValue(DynamicVariable.scala:62)\n\tat com.databricks.logging.UsageLogging.withAttributionContext(UsageLogging.scala:261)\n\tat com.databricks.logging.UsageLogging.withAttributionContext$(UsageLogging.scala:258)\n\tat com.databricks.backend.daemon.driver.DriverLocal.withAttributionContext(DriverLocal.scala:49)\n\tat com.databricks.logging.UsageLogging.withAttributionTags(UsageLogging.scala:305)\n\tat com.databricks.logging.UsageLogging.withAttributionTags$(UsageLogging.scala:297)\n\tat com.databricks.backend.daemon.driver.DriverLocal.withAttributionTags(DriverLocal.scala:49)\n\tat com.databricks.backend.daemon.driver.DriverLocal.execute(DriverLocal.scala:524)\n\tat com.databricks.backend.daemon.driver.DriverWrapper.$anonfun$tryExecutingCommand$1(DriverWrapper.scala:611)\n\tat scala.util.Try$.apply(Try.scala:213)\n\tat com.databricks.backend.daemon.driver.DriverWrapper.tryExecutingCommand(DriverWrapper.scala:603)\n\tat com.databricks.backend.daemon.driver.DriverWrapper.executeCommandAndGetError(DriverWrapper.scala:522)\n\tat com.databricks.backend.daemon.driver.DriverWrapper.executeCommand(DriverWrapper.scala:557)\n\tat com.databricks.backend.daemon.driver.DriverWrapper.runInnerLoop(DriverWrapper.scala:427)\n\tat com.databricks.backend.daemon.driver.DriverWrapper.runInner(DriverWrapper.scala:370)\n\tat com.databricks.backend.daemon.driver.DriverWrapper.run(DriverWrapper.scala:221)\n\tat java.lang.Thread.run(Thread.java:748)\nCaused by: org.apache.spark.sql.AnalysisException: org.apache.hadoop.hive.ql.metadata.HiveException: Unable to fetch table data_test. User: arn:aws:sts::637048363945:assumed-role/DB-we_b2b_ecommerce-Instance-Profile-prod/i-029ba9faeeb0241fa is not authorized to perform: glue:GetTable on resource: arn:aws:glue:eu-west-1:469877812148:table/default/data_test because no resource-based policy allows the glue:GetTable action (Service: AWSGlue; Status Code: 400; Error Code: AccessDeniedException; Request ID: 2401de2e-0dee-4df7-aae0-cd71b86a2b60; Proxy: null)\n\tat org.apache.spark.sql.hive.HiveExternalCatalog.$anonfun$withClient$2(HiveExternalCatalog.scala:161)\n\tat org.apache.spark.sql.hive.HiveExternalCatalog.maybeSynchronized(HiveExternalCatalog.scala:112)\n\tat org.apache.spark.sql.hive.HiveExternalCatalog.$anonfun$withClient$1(HiveExternalCatalog.scala:150)\n\tat com.databricks.backend.daemon.driver.ProgressReporter$.withStatusCode(ProgressReporter.scala:377)\n\tat com.databricks.backend.daemon.driver.ProgressReporter$.withStatusCode(ProgressReporter.scala:363)\n\tat com.databricks.spark.util.SparkDatabricksProgressReporter$.withStatusCode(ProgressReporter.scala:34)\n\tat org.apache.spark.sql.hive.HiveExternalCatalog.withClient(HiveExternalCatalog.scala:149)\n\tat org.apache.spark.sql.hive.HiveExternalCatalog.getRawTable(HiveExternalCatalog.scala:196)\n\tat org.apache.spark.sql.hive.HiveExternalCatalog.$anonfun$getTable$1(HiveExternalCatalog.scala:828)\n\tat com.databricks.spark.util.FrameProfiler$.record(FrameProfiler.scala:80)\n\tat org.apache.spark.sql.hive.HiveExternalCatalog.$anonfun$withClient$2(HiveExternalCatalog.scala:151)\n\tat org.apache.spark.sql.hive.HiveExternalCatalog.maybeSynchronized(HiveExternalCatalog.scala:112)\n\tat org.apache.spark.sql.hive.HiveExternalCatalog.$anonfun$withClient$1(HiveExternalCatalog.scala:150)\n\tat com.databricks.backend.daemon.driver.ProgressReporter$.withStatusCode(ProgressReporter.scala:377)\n\tat com.databricks.backend.daemon.driver.ProgressReporter$.withStatusCode(ProgressReporter.scala:363)\n\tat com.databricks.spark.util.SparkDatabricksProgressReporter$.withStatusCode(ProgressReporter.scala:34)\n\tat org.apache.spark.sql.hive.HiveExternalCatalog.withClient(HiveExternalCatalog.scala:149)\n\tat org.apache.spark.sql.hive.HiveExternalCatalog.getTable(HiveExternalCatalog.scala:828)\n\tat org.apache.spark.sql.catalyst.catalog.ExternalCatalogWithListener.getTable(ExternalCatalogWithListener.scala:146)\n\tat org.apache.spark.sql.catalyst.catalog.SessionCatalogImpl.getTableRawMetadata(SessionCatalog.scala:886)\n\tat com.databricks.sql.managedcatalog.ManagedCatalogSessionCatalog.getTableRawMetadata(ManagedCatalogSessionCatalog.scala:569)\n\tat com.databricks.sql.DatabricksSessionCatalog.getTableRawMetadata(DatabricksSessionCatalog.scala:79)\n\tat com.databricks.sql.DatabricksSessionCatalog.getTableMetadata(DatabricksSessionCatalog.scala:89)\n\tat org.apache.spark.sql.execution.datasources.v2.V2SessionCatalog.loadTable(V2SessionCatalog.scala:67)\n\tat org.apache.spark.sql.connector.catalog.DelegatingCatalogExtension.loadTable(DelegatingCatalogExtension.java:70)\n\tat com.databricks.sql.transaction.tahoe.catalog.DeltaCatalog.loadTable(DeltaCatalog.scala:210)\n\tat org.apache.spark.sql.connector.catalog.CatalogV2Util$.$anonfun$loadTable$1(CatalogV2Util.scala:286)\n\tat com.databricks.spark.util.FrameProfiler$.record(FrameProfiler.scala:80)\n\tat org.apache.spark.sql.connector.catalog.CatalogV2Util$.loadTable(CatalogV2Util.scala:286)\n\tat org.apache.spark.sql.catalyst.analysis.Analyzer$ResolveRelations$.$anonfun$lookupRelationAsync$1(Analyzer.scala:1760)\n\tat org.apache.spark.sql.SparkSession.withActive(SparkSession.scala:854)\n\tat org.apache.spark.sql.execution.SQLExecution$.$anonfun$withThreadLocalCaptured$4(SQLExecution.scala:358)\n\tat scala.util.DynamicVariable.withValue(DynamicVariable.scala:62)\n\tat org.apache.spark.sql.execution.SQLExecution$.$anonfun$withThreadLocalCaptured$3(SQLExecution.scala:358)\n\tat scala.util.DynamicVariable.withValue(DynamicVariable.scala:62)\n\tat org.apache.spark.sql.execution.SQLExecution$.$anonfun$withThreadLocalCaptured$2(SQLExecution.scala:357)\n\tat org.apache.spark.sql.execution.SQLExecution$.withOptimisticTransaction(SQLExecution.scala:375)\n\tat org.apache.spark.sql.execution.SQLExecution$.$anonfun$withThreadLocalCaptured$1(SQLExecution.scala:356)\n\tat java.util.concurrent.CompletableFuture$AsyncSupply.run(CompletableFuture.java:1604)\n\tat org.apache.spark.util.threads.SparkThreadLocalCapturingRunnable.$anonfun$run$1(SparkThreadLocalForwardingThreadPoolExecutor.scala:104)\n\tat scala.runtime.java8.JFunction0$mcV$sp.apply(JFunction0$mcV$sp.java:23)\n\tat org.apache.spark.util.threads.SparkThreadLocalCapturingHelper.runWithCaptured(SparkThreadLocalForwardingThreadPoolExecutor.scala:68)\n\tat org.apache.spark.util.threads.SparkThreadLocalCapturingHelper.runWithCaptured$(SparkThreadLocalForwardingThreadPoolExecutor.scala:54)\n\tat org.apache.spark.util.threads.SparkThreadLocalCapturingRunnable.runWithCaptured(SparkThreadLocalForwardingThreadPoolExecutor.scala:101)\n\tat org.apache.spark.util.threads.SparkThreadLocalCapturingRunnable.run(SparkThreadLocalForwardingThreadPoolExecutor.scala:104)\n\tat java.util.concurrent.ThreadPoolExecutor.runWorker(ThreadPoolExecutor.java:1149)\n\tat java.util.concurrent.ThreadPoolExecutor$Worker.run(ThreadPoolExecutor.java:624)\n\t... 1 more\nCaused by: org.apache.hadoop.hive.ql.metadata.HiveException: Unable to fetch table data_test. User: arn:aws:sts::637048363945:assumed-role/DB-we_b2b_ecommerce-Instance-Profile-prod/i-029ba9faeeb0241fa is not authorized to perform: glue:GetTable on resource: arn:aws:glue:eu-west-1:469877812148:table/default/data_test because no resource-based policy allows the glue:GetTable action (Service: AWSGlue; Status Code: 400; Error Code: AccessDeniedException; Request ID: 2401de2e-0dee-4df7-aae0-cd71b86a2b60; Proxy: null)\n\tat org.apache.hadoop.hive.ql.metadata.Hive.getTable(Hive.java:1145)\n\tat org.apache.spark.sql.hive.client.HiveClientImpl.getRawTableOption(HiveClientImpl.scala:456)\n\tat org.apache.spark.sql.hive.client.HiveClientImpl.$anonfun$getTableOption$1(HiveClientImpl.scala:493)\n\tat org.apache.spark.sql.hive.client.HiveClientImpl.$anonfun$withHiveState$1(HiveClientImpl.scala:348)\n\tat org.apache.spark.sql.hive.client.HiveClientImpl.$anonfun$retryLocked$1(HiveClientImpl.scala:251)\n\tat org.apache.spark.sql.hive.client.HiveClientImpl.synchronizeOnObject(HiveClientImpl.scala:287)\n\tat org.apache.spark.sql.hive.client.HiveClientImpl.retryLocked(HiveClientImpl.scala:243)\n\tat org.apache.spark.sql.hive.client.HiveClientImpl.withHiveState(HiveClientImpl.scala:330)\n\tat org.apache.spark.sql.hive.client.HiveClientImpl.getTableOption(HiveClientImpl.scala:491)\n\tat org.apache.spark.sql.hive.client.PoolingHiveClient.$anonfun$getTableOption$1(PoolingHiveClient.scala:334)\n\tat org.apache.spark.sql.hive.client.PoolingHiveClient.withHiveClient(PoolingHiveClient.scala:149)\n\tat org.apache.spark.sql.hive.client.PoolingHiveClient.getTableOption(PoolingHiveClient.scala:333)\n\tat org.apache.spark.sql.hive.client.HiveClient.getTable(HiveClient.scala:90)\n\tat org.apache.spark.sql.hive.client.HiveClient.getTable$(HiveClient.scala:89)\n\tat org.apache.spark.sql.hive.client.PoolingHiveClient.getTable(PoolingHiveClient.scala:44)\n\tat org.apache.spark.sql.hive.HiveExternalCatalog.$anonfun$getRawTable$1(HiveExternalCatalog.scala:196)\n\tat com.databricks.spark.util.FrameProfiler$.record(FrameProfiler.scala:80)\n\tat org.apache.spark.sql.hive.HiveExternalCatalog.$anonfun$withClient$2(HiveExternalCatalog.scala:151)\n\t... 47 more\nCaused by: MetaException(message:User: arn:aws:sts::637048363945:assumed-role/DB-we_b2b_ecommerce-Instance-Profile-prod/i-029ba9faeeb0241fa is not authorized to perform: glue:GetTable on resource: arn:aws:glue:eu-west-1:469877812148:table/default/data_test because no resource-based policy allows the glue:GetTable action (Service: AWSGlue; Status Code: 400; Error Code: AccessDeniedException; Request ID: 2401de2e-0dee-4df7-aae0-cd71b86a2b60; Proxy: null))\n\tat com.amazonaws.glue.catalog.converters.CatalogToHiveConverter.getHiveException(CatalogToHiveConverter.java:100)\n\tat com.amazonaws.glue.catalog.converters.CatalogToHiveConverter.wrapInHiveException(CatalogToHiveConverter.java:88)\n\tat com.amazonaws.glue.catalog.metastore.GlueMetastoreClientDelegate.getTable(GlueMetastoreClientDelegate.java:358)\n\tat com.amazonaws.glue.catalog.metastore.AWSCatalogMetastoreClient.getTable(AWSCatalogMetastoreClient.java:961)\n\tat org.apache.hadoop.hive.ql.metadata.Hive.getTable(Hive.java:1137)\n\t... 64 more\n\n\tat com.databricks.backend.daemon.driver.SQLDriverLocal.executeSql(SQLDriverLocal.scala:130)\n\tat com.databricks.backend.daemon.driver.SQLDriverLocal.repl(SQLDriverLocal.scala:145)\n\tat com.databricks.backend.daemon.driver.DriverLocal.$anonfun$execute$11(DriverLocal.scala:547)\n\tat com.databricks.logging.UsageLogging.$anonfun$withAttributionContext$1(UsageLogging.scala:266)\n\tat scala.util.DynamicVariable.withValue(DynamicVariable.scala:62)\n\tat com.databricks.logging.UsageLogging.withAttributionContext(UsageLogging.scala:261)\n\tat com.databricks.logging.UsageLogging.withAttributionContext$(UsageLogging.scala:258)\n\tat com.databricks.backend.daemon.driver.DriverLocal.withAttributionContext(DriverLocal.scala:49)\n\tat com.databricks.logging.UsageLogging.withAttributionTags(UsageLogging.scala:305)\n\tat com.databricks.logging.UsageLogging.withAttributionTags$(UsageLogging.scala:297)\n\tat com.databricks.backend.daemon.driver.DriverLocal.withAttributionTags(DriverLocal.scala:49)\n\tat com.databricks.backend.daemon.driver.DriverLocal.execute(DriverLocal.scala:524)\n\tat com.databricks.backend.daemon.driver.DriverWrapper.$anonfun$tryExecutingCommand$1(DriverWrapper.scala:611)\n\tat scala.util.Try$.apply(Try.scala:213)\n\tat com.databricks.backend.daemon.driver.DriverWrapper.tryExecutingCommand(DriverWrapper.scala:603)\n\tat com.databricks.backend.daemon.driver.DriverWrapper.executeCommandAndGetError(DriverWrapper.scala:522)\n\tat com.databricks.backend.daemon.driver.DriverWrapper.executeCommand(DriverWrapper.scala:557)\n\tat com.databricks.backend.daemon.driver.DriverWrapper.runInnerLoop(DriverWrapper.scala:427)\n\tat com.databricks.backend.daemon.driver.DriverWrapper.runInner(DriverWrapper.scala:370)\n\tat com.databricks.backend.daemon.driver.DriverWrapper.run(DriverWrapper.scala:221)\n\tat java.lang.Thread.run(Thread.java:748)\n",
       "errorSummary": "Error in SQL statement: AnalysisException: Table or view not found: data_test; line 1 pos 14;\n'Project [*]\n+- 'UnresolvedRelation [data_test], [], false\n",
       "metadata": {},
       "errorTraceType": "html",
       "type": "ipynbError",
       "arguments": {}
      }
     },
     "data": {
      "text/html": [
       "<style scoped>\n  .ansiout {\n    display: block;\n    unicode-bidi: embed;\n    white-space: pre-wrap;\n    word-wrap: break-word;\n    word-break: break-all;\n    font-family: \"Source Code Pro\", \"Menlo\", monospace;;\n    font-size: 13px;\n    color: #555;\n    margin-left: 4px;\n    line-height: 19px;\n  }\n</style>\ncom.databricks.backend.common.rpc.DatabricksExceptions$SQLExecutionException: org.apache.spark.sql.AnalysisException: Table or view not found: data_test; line 1 pos 14;\n'Project [*]\n+- 'UnresolvedRelation [data_test], [], false\n\n\tat org.apache.spark.sql.catalyst.analysis.package$AnalysisErrorAt.failAnalysis(package.scala:47)\n\tat org.apache.spark.sql.catalyst.analysis.CheckAnalysis.$anonfun$checkAnalysis$2(CheckAnalysis.scala:121)\n\tat org.apache.spark.sql.catalyst.analysis.CheckAnalysis.$anonfun$checkAnalysis$2$adapted(CheckAnalysis.scala:99)\n\tat org.apache.spark.sql.catalyst.trees.TreeNode.foreachUp(TreeNode.scala:262)\n\tat org.apache.spark.sql.catalyst.trees.TreeNode.$anonfun$foreachUp$1(TreeNode.scala:261)\n\tat org.apache.spark.sql.catalyst.trees.TreeNode.$anonfun$foreachUp$1$adapted(TreeNode.scala:261)\n\tat scala.collection.Iterator.foreach(Iterator.scala:941)\n\tat scala.collection.Iterator.foreach$(Iterator.scala:941)\n\tat scala.collection.AbstractIterator.foreach(Iterator.scala:1429)\n\tat scala.collection.IterableLike.foreach(IterableLike.scala:74)\n\tat scala.collection.IterableLike.foreach$(IterableLike.scala:73)\n\tat scala.collection.AbstractIterable.foreach(Iterable.scala:56)\n\tat org.apache.spark.sql.catalyst.trees.TreeNode.foreachUp(TreeNode.scala:261)\n\tat org.apache.spark.sql.catalyst.analysis.CheckAnalysis.$anonfun$checkAnalysis$1(CheckAnalysis.scala:99)\n\tat scala.runtime.java8.JFunction0$mcV$sp.apply(JFunction0$mcV$sp.java:23)\n\tat com.databricks.spark.util.FrameProfiler$.record(FrameProfiler.scala:80)\n\tat org.apache.spark.sql.catalyst.analysis.CheckAnalysis.checkAnalysis(CheckAnalysis.scala:96)\n\tat org.apache.spark.sql.catalyst.analysis.CheckAnalysis.checkAnalysis$(CheckAnalysis.scala:96)\n\tat org.apache.spark.sql.catalyst.analysis.Analyzer.checkAnalysis(Analyzer.scala:191)\n\tat org.apache.spark.sql.catalyst.analysis.Analyzer.$anonfun$executeAndCheck$1(Analyzer.scala:248)\n\tat org.apache.spark.sql.catalyst.plans.logical.AnalysisHelper$.markInAnalyzer(AnalysisHelper.scala:347)\n\tat org.apache.spark.sql.catalyst.analysis.Analyzer.executeAndCheck(Analyzer.scala:245)\n\tat org.apache.spark.sql.execution.QueryExecution.$anonfun$analyzed$1(QueryExecution.scala:96)\n\tat com.databricks.spark.util.FrameProfiler$.record(FrameProfiler.scala:80)\n\tat org.apache.spark.sql.catalyst.QueryPlanningTracker.measurePhase(QueryPlanningTracker.scala:134)\n\tat org.apache.spark.sql.execution.QueryExecution.$anonfun$executePhase$1(QueryExecution.scala:180)\n\tat org.apache.spark.sql.SparkSession.withActive(SparkSession.scala:854)\n\tat org.apache.spark.sql.execution.QueryExecution.executePhase(QueryExecution.scala:180)\n\tat org.apache.spark.sql.execution.QueryExecution.analyzed$lzycompute(QueryExecution.scala:97)\n\tat org.apache.spark.sql.execution.QueryExecution.analyzed(QueryExecution.scala:94)\n\tat org.apache.spark.sql.execution.QueryExecution.assertAnalyzed(QueryExecution.scala:86)\n\tat org.apache.spark.sql.Dataset$.$anonfun$ofRows$2(Dataset.scala:103)\n\tat org.apache.spark.sql.SparkSession.withActive(SparkSession.scala:854)\n\tat org.apache.spark.sql.Dataset$.ofRows(Dataset.scala:101)\n\tat org.apache.spark.sql.SparkSession.$anonfun$sql$1(SparkSession.scala:689)\n\tat org.apache.spark.sql.SparkSession.withActive(SparkSession.scala:854)\n\tat org.apache.spark.sql.SparkSession.sql(SparkSession.scala:684)\n\tat org.apache.spark.sql.SQLContext.sql(SQLContext.scala:694)\n\tat com.databricks.backend.daemon.driver.SQLDriverLocal.$anonfun$executeSql$1(SQLDriverLocal.scala:91)\n\tat scala.collection.TraversableLike.$anonfun$map$1(TraversableLike.scala:238)\n\tat scala.collection.immutable.List.foreach(List.scala:392)\n\tat scala.collection.TraversableLike.map(TraversableLike.scala:238)\n\tat scala.collection.TraversableLike.map$(TraversableLike.scala:231)\n\tat scala.collection.immutable.List.map(List.scala:298)\n\tat com.databricks.backend.daemon.driver.SQLDriverLocal.executeSql(SQLDriverLocal.scala:37)\n\tat com.databricks.backend.daemon.driver.SQLDriverLocal.repl(SQLDriverLocal.scala:145)\n\tat com.databricks.backend.daemon.driver.DriverLocal.$anonfun$execute$11(DriverLocal.scala:547)\n\tat com.databricks.logging.UsageLogging.$anonfun$withAttributionContext$1(UsageLogging.scala:266)\n\tat scala.util.DynamicVariable.withValue(DynamicVariable.scala:62)\n\tat com.databricks.logging.UsageLogging.withAttributionContext(UsageLogging.scala:261)\n\tat com.databricks.logging.UsageLogging.withAttributionContext$(UsageLogging.scala:258)\n\tat com.databricks.backend.daemon.driver.DriverLocal.withAttributionContext(DriverLocal.scala:49)\n\tat com.databricks.logging.UsageLogging.withAttributionTags(UsageLogging.scala:305)\n\tat com.databricks.logging.UsageLogging.withAttributionTags$(UsageLogging.scala:297)\n\tat com.databricks.backend.daemon.driver.DriverLocal.withAttributionTags(DriverLocal.scala:49)\n\tat com.databricks.backend.daemon.driver.DriverLocal.execute(DriverLocal.scala:524)\n\tat com.databricks.backend.daemon.driver.DriverWrapper.$anonfun$tryExecutingCommand$1(DriverWrapper.scala:611)\n\tat scala.util.Try$.apply(Try.scala:213)\n\tat com.databricks.backend.daemon.driver.DriverWrapper.tryExecutingCommand(DriverWrapper.scala:603)\n\tat com.databricks.backend.daemon.driver.DriverWrapper.executeCommandAndGetError(DriverWrapper.scala:522)\n\tat com.databricks.backend.daemon.driver.DriverWrapper.executeCommand(DriverWrapper.scala:557)\n\tat com.databricks.backend.daemon.driver.DriverWrapper.runInnerLoop(DriverWrapper.scala:427)\n\tat com.databricks.backend.daemon.driver.DriverWrapper.runInner(DriverWrapper.scala:370)\n\tat com.databricks.backend.daemon.driver.DriverWrapper.run(DriverWrapper.scala:221)\n\tat java.lang.Thread.run(Thread.java:748)\nCaused by: org.apache.spark.sql.AnalysisException: org.apache.hadoop.hive.ql.metadata.HiveException: Unable to fetch table data_test. User: arn:aws:sts::637048363945:assumed-role/DB-we_b2b_ecommerce-Instance-Profile-prod/i-029ba9faeeb0241fa is not authorized to perform: glue:GetTable on resource: arn:aws:glue:eu-west-1:469877812148:table/default/data_test because no resource-based policy allows the glue:GetTable action (Service: AWSGlue; Status Code: 400; Error Code: AccessDeniedException; Request ID: 2401de2e-0dee-4df7-aae0-cd71b86a2b60; Proxy: null)\n\tat org.apache.spark.sql.hive.HiveExternalCatalog.$anonfun$withClient$2(HiveExternalCatalog.scala:161)\n\tat org.apache.spark.sql.hive.HiveExternalCatalog.maybeSynchronized(HiveExternalCatalog.scala:112)\n\tat org.apache.spark.sql.hive.HiveExternalCatalog.$anonfun$withClient$1(HiveExternalCatalog.scala:150)\n\tat com.databricks.backend.daemon.driver.ProgressReporter$.withStatusCode(ProgressReporter.scala:377)\n\tat com.databricks.backend.daemon.driver.ProgressReporter$.withStatusCode(ProgressReporter.scala:363)\n\tat com.databricks.spark.util.SparkDatabricksProgressReporter$.withStatusCode(ProgressReporter.scala:34)\n\tat org.apache.spark.sql.hive.HiveExternalCatalog.withClient(HiveExternalCatalog.scala:149)\n\tat org.apache.spark.sql.hive.HiveExternalCatalog.getRawTable(HiveExternalCatalog.scala:196)\n\tat org.apache.spark.sql.hive.HiveExternalCatalog.$anonfun$getTable$1(HiveExternalCatalog.scala:828)\n\tat com.databricks.spark.util.FrameProfiler$.record(FrameProfiler.scala:80)\n\tat org.apache.spark.sql.hive.HiveExternalCatalog.$anonfun$withClient$2(HiveExternalCatalog.scala:151)\n\tat org.apache.spark.sql.hive.HiveExternalCatalog.maybeSynchronized(HiveExternalCatalog.scala:112)\n\tat org.apache.spark.sql.hive.HiveExternalCatalog.$anonfun$withClient$1(HiveExternalCatalog.scala:150)\n\tat com.databricks.backend.daemon.driver.ProgressReporter$.withStatusCode(ProgressReporter.scala:377)\n\tat com.databricks.backend.daemon.driver.ProgressReporter$.withStatusCode(ProgressReporter.scala:363)\n\tat com.databricks.spark.util.SparkDatabricksProgressReporter$.withStatusCode(ProgressReporter.scala:34)\n\tat org.apache.spark.sql.hive.HiveExternalCatalog.withClient(HiveExternalCatalog.scala:149)\n\tat org.apache.spark.sql.hive.HiveExternalCatalog.getTable(HiveExternalCatalog.scala:828)\n\tat org.apache.spark.sql.catalyst.catalog.ExternalCatalogWithListener.getTable(ExternalCatalogWithListener.scala:146)\n\tat org.apache.spark.sql.catalyst.catalog.SessionCatalogImpl.getTableRawMetadata(SessionCatalog.scala:886)\n\tat com.databricks.sql.managedcatalog.ManagedCatalogSessionCatalog.getTableRawMetadata(ManagedCatalogSessionCatalog.scala:569)\n\tat com.databricks.sql.DatabricksSessionCatalog.getTableRawMetadata(DatabricksSessionCatalog.scala:79)\n\tat com.databricks.sql.DatabricksSessionCatalog.getTableMetadata(DatabricksSessionCatalog.scala:89)\n\tat org.apache.spark.sql.execution.datasources.v2.V2SessionCatalog.loadTable(V2SessionCatalog.scala:67)\n\tat org.apache.spark.sql.connector.catalog.DelegatingCatalogExtension.loadTable(DelegatingCatalogExtension.java:70)\n\tat com.databricks.sql.transaction.tahoe.catalog.DeltaCatalog.loadTable(DeltaCatalog.scala:210)\n\tat org.apache.spark.sql.connector.catalog.CatalogV2Util$.$anonfun$loadTable$1(CatalogV2Util.scala:286)\n\tat com.databricks.spark.util.FrameProfiler$.record(FrameProfiler.scala:80)\n\tat org.apache.spark.sql.connector.catalog.CatalogV2Util$.loadTable(CatalogV2Util.scala:286)\n\tat org.apache.spark.sql.catalyst.analysis.Analyzer$ResolveRelations$.$anonfun$lookupRelationAsync$1(Analyzer.scala:1760)\n\tat org.apache.spark.sql.SparkSession.withActive(SparkSession.scala:854)\n\tat org.apache.spark.sql.execution.SQLExecution$.$anonfun$withThreadLocalCaptured$4(SQLExecution.scala:358)\n\tat scala.util.DynamicVariable.withValue(DynamicVariable.scala:62)\n\tat org.apache.spark.sql.execution.SQLExecution$.$anonfun$withThreadLocalCaptured$3(SQLExecution.scala:358)\n\tat scala.util.DynamicVariable.withValue(DynamicVariable.scala:62)\n\tat org.apache.spark.sql.execution.SQLExecution$.$anonfun$withThreadLocalCaptured$2(SQLExecution.scala:357)\n\tat org.apache.spark.sql.execution.SQLExecution$.withOptimisticTransaction(SQLExecution.scala:375)\n\tat org.apache.spark.sql.execution.SQLExecution$.$anonfun$withThreadLocalCaptured$1(SQLExecution.scala:356)\n\tat java.util.concurrent.CompletableFuture$AsyncSupply.run(CompletableFuture.java:1604)\n\tat org.apache.spark.util.threads.SparkThreadLocalCapturingRunnable.$anonfun$run$1(SparkThreadLocalForwardingThreadPoolExecutor.scala:104)\n\tat scala.runtime.java8.JFunction0$mcV$sp.apply(JFunction0$mcV$sp.java:23)\n\tat org.apache.spark.util.threads.SparkThreadLocalCapturingHelper.runWithCaptured(SparkThreadLocalForwardingThreadPoolExecutor.scala:68)\n\tat org.apache.spark.util.threads.SparkThreadLocalCapturingHelper.runWithCaptured$(SparkThreadLocalForwardingThreadPoolExecutor.scala:54)\n\tat org.apache.spark.util.threads.SparkThreadLocalCapturingRunnable.runWithCaptured(SparkThreadLocalForwardingThreadPoolExecutor.scala:101)\n\tat org.apache.spark.util.threads.SparkThreadLocalCapturingRunnable.run(SparkThreadLocalForwardingThreadPoolExecutor.scala:104)\n\tat java.util.concurrent.ThreadPoolExecutor.runWorker(ThreadPoolExecutor.java:1149)\n\tat java.util.concurrent.ThreadPoolExecutor$Worker.run(ThreadPoolExecutor.java:624)\n\t... 1 more\nCaused by: org.apache.hadoop.hive.ql.metadata.HiveException: Unable to fetch table data_test. User: arn:aws:sts::637048363945:assumed-role/DB-we_b2b_ecommerce-Instance-Profile-prod/i-029ba9faeeb0241fa is not authorized to perform: glue:GetTable on resource: arn:aws:glue:eu-west-1:469877812148:table/default/data_test because no resource-based policy allows the glue:GetTable action (Service: AWSGlue; Status Code: 400; Error Code: AccessDeniedException; Request ID: 2401de2e-0dee-4df7-aae0-cd71b86a2b60; Proxy: null)\n\tat org.apache.hadoop.hive.ql.metadata.Hive.getTable(Hive.java:1145)\n\tat org.apache.spark.sql.hive.client.HiveClientImpl.getRawTableOption(HiveClientImpl.scala:456)\n\tat org.apache.spark.sql.hive.client.HiveClientImpl.$anonfun$getTableOption$1(HiveClientImpl.scala:493)\n\tat org.apache.spark.sql.hive.client.HiveClientImpl.$anonfun$withHiveState$1(HiveClientImpl.scala:348)\n\tat org.apache.spark.sql.hive.client.HiveClientImpl.$anonfun$retryLocked$1(HiveClientImpl.scala:251)\n\tat org.apache.spark.sql.hive.client.HiveClientImpl.synchronizeOnObject(HiveClientImpl.scala:287)\n\tat org.apache.spark.sql.hive.client.HiveClientImpl.retryLocked(HiveClientImpl.scala:243)\n\tat org.apache.spark.sql.hive.client.HiveClientImpl.withHiveState(HiveClientImpl.scala:330)\n\tat org.apache.spark.sql.hive.client.HiveClientImpl.getTableOption(HiveClientImpl.scala:491)\n\tat org.apache.spark.sql.hive.client.PoolingHiveClient.$anonfun$getTableOption$1(PoolingHiveClient.scala:334)\n\tat org.apache.spark.sql.hive.client.PoolingHiveClient.withHiveClient(PoolingHiveClient.scala:149)\n\tat org.apache.spark.sql.hive.client.PoolingHiveClient.getTableOption(PoolingHiveClient.scala:333)\n\tat org.apache.spark.sql.hive.client.HiveClient.getTable(HiveClient.scala:90)\n\tat org.apache.spark.sql.hive.client.HiveClient.getTable$(HiveClient.scala:89)\n\tat org.apache.spark.sql.hive.client.PoolingHiveClient.getTable(PoolingHiveClient.scala:44)\n\tat org.apache.spark.sql.hive.HiveExternalCatalog.$anonfun$getRawTable$1(HiveExternalCatalog.scala:196)\n\tat com.databricks.spark.util.FrameProfiler$.record(FrameProfiler.scala:80)\n\tat org.apache.spark.sql.hive.HiveExternalCatalog.$anonfun$withClient$2(HiveExternalCatalog.scala:151)\n\t... 47 more\nCaused by: MetaException(message:User: arn:aws:sts::637048363945:assumed-role/DB-we_b2b_ecommerce-Instance-Profile-prod/i-029ba9faeeb0241fa is not authorized to perform: glue:GetTable on resource: arn:aws:glue:eu-west-1:469877812148:table/default/data_test because no resource-based policy allows the glue:GetTable action (Service: AWSGlue; Status Code: 400; Error Code: AccessDeniedException; Request ID: 2401de2e-0dee-4df7-aae0-cd71b86a2b60; Proxy: null))\n\tat com.amazonaws.glue.catalog.converters.CatalogToHiveConverter.getHiveException(CatalogToHiveConverter.java:100)\n\tat com.amazonaws.glue.catalog.converters.CatalogToHiveConverter.wrapInHiveException(CatalogToHiveConverter.java:88)\n\tat com.amazonaws.glue.catalog.metastore.GlueMetastoreClientDelegate.getTable(GlueMetastoreClientDelegate.java:358)\n\tat com.amazonaws.glue.catalog.metastore.AWSCatalogMetastoreClient.getTable(AWSCatalogMetastoreClient.java:961)\n\tat org.apache.hadoop.hive.ql.metadata.Hive.getTable(Hive.java:1137)\n\t... 64 more\n\n\tat com.databricks.backend.daemon.driver.SQLDriverLocal.executeSql(SQLDriverLocal.scala:130)\n\tat com.databricks.backend.daemon.driver.SQLDriverLocal.repl(SQLDriverLocal.scala:145)\n\tat com.databricks.backend.daemon.driver.DriverLocal.$anonfun$execute$11(DriverLocal.scala:547)\n\tat com.databricks.logging.UsageLogging.$anonfun$withAttributionContext$1(UsageLogging.scala:266)\n\tat scala.util.DynamicVariable.withValue(DynamicVariable.scala:62)\n\tat com.databricks.logging.UsageLogging.withAttributionContext(UsageLogging.scala:261)\n\tat com.databricks.logging.UsageLogging.withAttributionContext$(UsageLogging.scala:258)\n\tat com.databricks.backend.daemon.driver.DriverLocal.withAttributionContext(DriverLocal.scala:49)\n\tat com.databricks.logging.UsageLogging.withAttributionTags(UsageLogging.scala:305)\n\tat com.databricks.logging.UsageLogging.withAttributionTags$(UsageLogging.scala:297)\n\tat com.databricks.backend.daemon.driver.DriverLocal.withAttributionTags(DriverLocal.scala:49)\n\tat com.databricks.backend.daemon.driver.DriverLocal.execute(DriverLocal.scala:524)\n\tat com.databricks.backend.daemon.driver.DriverWrapper.$anonfun$tryExecutingCommand$1(DriverWrapper.scala:611)\n\tat scala.util.Try$.apply(Try.scala:213)\n\tat com.databricks.backend.daemon.driver.DriverWrapper.tryExecutingCommand(DriverWrapper.scala:603)\n\tat com.databricks.backend.daemon.driver.DriverWrapper.executeCommandAndGetError(DriverWrapper.scala:522)\n\tat com.databricks.backend.daemon.driver.DriverWrapper.executeCommand(DriverWrapper.scala:557)\n\tat com.databricks.backend.daemon.driver.DriverWrapper.runInnerLoop(DriverWrapper.scala:427)\n\tat com.databricks.backend.daemon.driver.DriverWrapper.runInner(DriverWrapper.scala:370)\n\tat com.databricks.backend.daemon.driver.DriverWrapper.run(DriverWrapper.scala:221)\n\tat java.lang.Thread.run(Thread.java:748)"
      ]
     }
    }
   ],
   "execution_count": 0
  },
  {
   "cell_type": "code",
   "source": [
    "from sklearn import metrics\n",
    "from sklearn.metrics import roc_auc_score, roc_curve, confusion_matrix, precision_score, recall_score, f1_score, classification_report\n",
    "from sklearn.metrics import mean_squared_error, r2_score, fbeta_score, mean_absolute_percentage_error,  mean_absolute_error\n",
    "import math"
   ],
   "metadata": {
    "application/vnd.databricks.v1+cell": {
     "title": "",
     "showTitle": false,
     "inputWidgets": {},
     "nuid": "a0ab1e8c-749c-4006-8eea-cb243d88fd42"
    },
    "pycharm": {
     "name": "#%%\n"
    }
   },
   "outputs": [
    {
     "output_type": "display_data",
     "metadata": {
      "application/vnd.databricks.v1+output": {
       "datasetInfos": [],
       "data": "<div class=\"ansiout\"></div>",
       "removedWidgets": [],
       "addedWidgets": {},
       "metadata": {},
       "type": "html",
       "arguments": {}
      }
     },
     "data": {
      "text/html": [
       "<style scoped>\n  .ansiout {\n    display: block;\n    unicode-bidi: embed;\n    white-space: pre-wrap;\n    word-wrap: break-word;\n    word-break: break-all;\n    font-family: \"Source Code Pro\", \"Menlo\", monospace;;\n    font-size: 13px;\n    color: #555;\n    margin-left: 4px;\n    line-height: 19px;\n  }\n</style>\n<div class=\"ansiout\"></div>"
      ]
     }
    }
   ],
   "execution_count": 0
  },
  {
   "cell_type": "code",
   "source": [
    "def evaluate_regression (y_test, Y_predicted):\n",
    "\n",
    "    mse = mean_squared_error(y_test, Y_predicted)\n",
    "    rmse = math.sqrt(mse)\n",
    "    print('Root Mean Squared Error: ', rmse)\n",
    "    r2 = r2_score(y_test, Y_predicted)\n",
    "    print('R-sqaured: ', r2)\n",
    "    y_test['predictions'] = Y_predicted\n",
    "    return r2_score, rmse"
   ],
   "metadata": {
    "application/vnd.databricks.v1+cell": {
     "title": "",
     "showTitle": false,
     "inputWidgets": {},
     "nuid": "fd061975-b11f-4dd1-96b6-887f81506a40"
    },
    "pycharm": {
     "name": "#%%\n"
    }
   },
   "outputs": [
    {
     "output_type": "display_data",
     "metadata": {
      "application/vnd.databricks.v1+output": {
       "datasetInfos": [],
       "data": "<div class=\"ansiout\"></div>",
       "removedWidgets": [],
       "addedWidgets": {},
       "metadata": {},
       "type": "html",
       "arguments": {}
      }
     },
     "data": {
      "text/html": [
       "<style scoped>\n  .ansiout {\n    display: block;\n    unicode-bidi: embed;\n    white-space: pre-wrap;\n    word-wrap: break-word;\n    word-break: break-all;\n    font-family: \"Source Code Pro\", \"Menlo\", monospace;;\n    font-size: 13px;\n    color: #555;\n    margin-left: 4px;\n    line-height: 19px;\n  }\n</style>\n<div class=\"ansiout\"></div>"
      ]
     }
    }
   ],
   "execution_count": 0
  },
  {
   "cell_type": "code",
   "source": [
    "evaluate_regression(data_test[\"test_actuals\"], data_test[\"test_preditct\"])"
   ],
   "metadata": {
    "application/vnd.databricks.v1+cell": {
     "title": "",
     "showTitle": false,
     "inputWidgets": {},
     "nuid": "6ff85247-b47a-4cb9-86d7-b74316d9e8f7"
    },
    "pycharm": {
     "name": "#%%\n"
    }
   },
   "outputs": [
    {
     "output_type": "display_data",
     "metadata": {
      "application/vnd.databricks.v1+output": {
       "datasetInfos": [],
       "data": "<div class=\"ansiout\">Root Mean Squared Error:  32448.927265696184\nR-sqaured:  -1.558948763794159\n&lt;command-3746240018217859&gt;:8: SettingWithCopyWarning: \nA value is trying to be set on a copy of a slice from a DataFrame\n\nSee the caveats in the documentation: https://pandas.pydata.org/pandas-docs/stable/user_guide/indexing.html#returning-a-view-versus-a-copy\n  y_test[&#39;predictions&#39;] = Y_predicted\n/databricks/python/lib/python3.8/site-packages/pandas/core/indexing.py:692: SettingWithCopyWarning: \nA value is trying to be set on a copy of a slice from a DataFrame\n\nSee the caveats in the documentation: https://pandas.pydata.org/pandas-docs/stable/user_guide/indexing.html#returning-a-view-versus-a-copy\n  iloc._setitem_with_indexer(indexer, value, self.name)\n&lt;command-3746240018217860&gt;:1: SettingWithCopyWarning: \nA value is trying to be set on a copy of a slice from a DataFrame\n\nSee the caveats in the documentation: https://pandas.pydata.org/pandas-docs/stable/user_guide/indexing.html#returning-a-view-versus-a-copy\n  evaluate_regression(data_test[&#34;test_actuals&#34;], data_test[&#34;test_preditct&#34;])\nOut[94]: (&lt;function sklearn.metrics._regression.r2_score(y_true, y_pred, *, sample_weight=None, multioutput=&#39;uniform_average&#39;)&gt;,\n 32448.927265696184)</div>",
       "removedWidgets": [],
       "addedWidgets": {},
       "metadata": {},
       "type": "html",
       "arguments": {}
      }
     },
     "data": {
      "text/html": [
       "<style scoped>\n  .ansiout {\n    display: block;\n    unicode-bidi: embed;\n    white-space: pre-wrap;\n    word-wrap: break-word;\n    word-break: break-all;\n    font-family: \"Source Code Pro\", \"Menlo\", monospace;;\n    font-size: 13px;\n    color: #555;\n    margin-left: 4px;\n    line-height: 19px;\n  }\n</style>\n<div class=\"ansiout\">Root Mean Squared Error:  32448.927265696184\nR-sqaured:  -1.558948763794159\n&lt;command-3746240018217859&gt;:8: SettingWithCopyWarning: \nA value is trying to be set on a copy of a slice from a DataFrame\n\nSee the caveats in the documentation: https://pandas.pydata.org/pandas-docs/stable/user_guide/indexing.html#returning-a-view-versus-a-copy\n  y_test[&#39;predictions&#39;] = Y_predicted\n/databricks/python/lib/python3.8/site-packages/pandas/core/indexing.py:692: SettingWithCopyWarning: \nA value is trying to be set on a copy of a slice from a DataFrame\n\nSee the caveats in the documentation: https://pandas.pydata.org/pandas-docs/stable/user_guide/indexing.html#returning-a-view-versus-a-copy\n  iloc._setitem_with_indexer(indexer, value, self.name)\n&lt;command-3746240018217860&gt;:1: SettingWithCopyWarning: \nA value is trying to be set on a copy of a slice from a DataFrame\n\nSee the caveats in the documentation: https://pandas.pydata.org/pandas-docs/stable/user_guide/indexing.html#returning-a-view-versus-a-copy\n  evaluate_regression(data_test[&#34;test_actuals&#34;], data_test[&#34;test_preditct&#34;])\nOut[94]: (&lt;function sklearn.metrics._regression.r2_score(y_true, y_pred, *, sample_weight=None, multioutput=&#39;uniform_average&#39;)&gt;,\n 32448.927265696184)</div>"
      ]
     }
    }
   ],
   "execution_count": 0
  },
  {
   "cell_type": "markdown",
   "source": [
    "#### Cross Validation"
   ],
   "metadata": {
    "application/vnd.databricks.v1+cell": {
     "title": "",
     "showTitle": false,
     "inputWidgets": {},
     "nuid": "4598e3a7-c6d1-46dc-ad4e-29f318c4f97a"
    },
    "pycharm": {
     "name": "#%% md\n"
    }
   }
  },
  {
   "cell_type": "code",
   "source": [
    "from sklearn.model_selection import cross_validate\n",
    "\n",
    "cv_results = cross_validate(model, data_test, target, cv=10, scoring = 'r2')\n",
    "cv_results"
   ],
   "metadata": {
    "application/vnd.databricks.v1+cell": {
     "title": "",
     "showTitle": false,
     "inputWidgets": {},
     "nuid": "fd61e7e1-6d4a-46ba-8772-0a61b47da513"
    },
    "pycharm": {
     "name": "#%%\n"
    }
   },
   "outputs": [
    {
     "output_type": "display_data",
     "metadata": {
      "application/vnd.databricks.v1+output": {
       "datasetInfos": [],
       "data": "<div class=\"ansiout\"></div>",
       "removedWidgets": [],
       "addedWidgets": {},
       "metadata": {},
       "type": "html",
       "arguments": {}
      }
     },
     "data": {
      "text/html": [
       "<style scoped>\n  .ansiout {\n    display: block;\n    unicode-bidi: embed;\n    white-space: pre-wrap;\n    word-wrap: break-word;\n    word-break: break-all;\n    font-family: \"Source Code Pro\", \"Menlo\", monospace;;\n    font-size: 13px;\n    color: #555;\n    margin-left: 4px;\n    line-height: 19px;\n  }\n</style>\n<div class=\"ansiout\"></div>"
      ]
     }
    },
    {
     "output_type": "display_data",
     "metadata": {
      "application/vnd.databricks.v1+output": {
       "data": "<div class=\"ansiout\"><span class=\"ansi-red-fg\">---------------------------------------------------------------------------</span>\n<span class=\"ansi-red-fg\">ValueError</span>                                Traceback (most recent call last)\n<span class=\"ansi-green-fg\">&lt;command-4137882028432903&gt;</span> in <span class=\"ansi-cyan-fg\">&lt;module&gt;</span>\n<span class=\"ansi-green-intense-fg ansi-bold\">      1</span> <span class=\"ansi-green-fg\">from</span> sklearn<span class=\"ansi-blue-fg\">.</span>model_selection <span class=\"ansi-green-fg\">import</span> cross_validate\n<span class=\"ansi-green-intense-fg ansi-bold\">      2</span> \n<span class=\"ansi-green-fg\">----&gt; 3</span><span class=\"ansi-red-fg\"> </span>cv_results <span class=\"ansi-blue-fg\">=</span> cross_validate<span class=\"ansi-blue-fg\">(</span>model<span class=\"ansi-blue-fg\">,</span> data_test<span class=\"ansi-blue-fg\">,</span> target<span class=\"ansi-blue-fg\">,</span> cv<span class=\"ansi-blue-fg\">=</span><span class=\"ansi-cyan-fg\">10</span><span class=\"ansi-blue-fg\">,</span> scoring <span class=\"ansi-blue-fg\">=</span> <span class=\"ansi-blue-fg\">&#39;r2&#39;</span><span class=\"ansi-blue-fg\">)</span>\n<span class=\"ansi-green-intense-fg ansi-bold\">      4</span> cv_results\n\n<span class=\"ansi-green-fg\">/databricks/python/lib/python3.8/site-packages/sklearn/utils/validation.py</span> in <span class=\"ansi-cyan-fg\">inner_f</span><span class=\"ansi-blue-fg\">(*args, **kwargs)</span>\n<span class=\"ansi-green-intense-fg ansi-bold\">     61</span>             extra_args <span class=\"ansi-blue-fg\">=</span> len<span class=\"ansi-blue-fg\">(</span>args<span class=\"ansi-blue-fg\">)</span> <span class=\"ansi-blue-fg\">-</span> len<span class=\"ansi-blue-fg\">(</span>all_args<span class=\"ansi-blue-fg\">)</span>\n<span class=\"ansi-green-intense-fg ansi-bold\">     62</span>             <span class=\"ansi-green-fg\">if</span> extra_args <span class=\"ansi-blue-fg\">&lt;=</span> <span class=\"ansi-cyan-fg\">0</span><span class=\"ansi-blue-fg\">:</span>\n<span class=\"ansi-green-fg\">---&gt; 63</span><span class=\"ansi-red-fg\">                 </span><span class=\"ansi-green-fg\">return</span> f<span class=\"ansi-blue-fg\">(</span><span class=\"ansi-blue-fg\">*</span>args<span class=\"ansi-blue-fg\">,</span> <span class=\"ansi-blue-fg\">**</span>kwargs<span class=\"ansi-blue-fg\">)</span>\n<span class=\"ansi-green-intense-fg ansi-bold\">     64</span> \n<span class=\"ansi-green-intense-fg ansi-bold\">     65</span>             <span class=\"ansi-red-fg\"># extra_args &gt; 0</span>\n\n<span class=\"ansi-green-fg\">/databricks/python/lib/python3.8/site-packages/sklearn/model_selection/_validation.py</span> in <span class=\"ansi-cyan-fg\">cross_validate</span><span class=\"ansi-blue-fg\">(estimator, X, y, groups, scoring, cv, n_jobs, verbose, fit_params, pre_dispatch, return_train_score, return_estimator, error_score)</span>\n<span class=\"ansi-green-intense-fg ansi-bold\">    229</span> \n<span class=\"ansi-green-intense-fg ansi-bold\">    230</span>     &#34;&#34;&#34;\n<span class=\"ansi-green-fg\">--&gt; 231</span><span class=\"ansi-red-fg\">     </span>X<span class=\"ansi-blue-fg\">,</span> y<span class=\"ansi-blue-fg\">,</span> groups <span class=\"ansi-blue-fg\">=</span> indexable<span class=\"ansi-blue-fg\">(</span>X<span class=\"ansi-blue-fg\">,</span> y<span class=\"ansi-blue-fg\">,</span> groups<span class=\"ansi-blue-fg\">)</span>\n<span class=\"ansi-green-intense-fg ansi-bold\">    232</span> \n<span class=\"ansi-green-intense-fg ansi-bold\">    233</span>     cv <span class=\"ansi-blue-fg\">=</span> check_cv<span class=\"ansi-blue-fg\">(</span>cv<span class=\"ansi-blue-fg\">,</span> y<span class=\"ansi-blue-fg\">,</span> classifier<span class=\"ansi-blue-fg\">=</span>is_classifier<span class=\"ansi-blue-fg\">(</span>estimator<span class=\"ansi-blue-fg\">)</span><span class=\"ansi-blue-fg\">)</span>\n\n<span class=\"ansi-green-fg\">/databricks/python/lib/python3.8/site-packages/sklearn/utils/validation.py</span> in <span class=\"ansi-cyan-fg\">indexable</span><span class=\"ansi-blue-fg\">(*iterables)</span>\n<span class=\"ansi-green-intense-fg ansi-bold\">    297</span>     &#34;&#34;&#34;\n<span class=\"ansi-green-intense-fg ansi-bold\">    298</span>     result <span class=\"ansi-blue-fg\">=</span> <span class=\"ansi-blue-fg\">[</span>_make_indexable<span class=\"ansi-blue-fg\">(</span>X<span class=\"ansi-blue-fg\">)</span> <span class=\"ansi-green-fg\">for</span> X <span class=\"ansi-green-fg\">in</span> iterables<span class=\"ansi-blue-fg\">]</span>\n<span class=\"ansi-green-fg\">--&gt; 299</span><span class=\"ansi-red-fg\">     </span>check_consistent_length<span class=\"ansi-blue-fg\">(</span><span class=\"ansi-blue-fg\">*</span>result<span class=\"ansi-blue-fg\">)</span>\n<span class=\"ansi-green-intense-fg ansi-bold\">    300</span>     <span class=\"ansi-green-fg\">return</span> result\n<span class=\"ansi-green-intense-fg ansi-bold\">    301</span> \n\n<span class=\"ansi-green-fg\">/databricks/python/lib/python3.8/site-packages/sklearn/utils/validation.py</span> in <span class=\"ansi-cyan-fg\">check_consistent_length</span><span class=\"ansi-blue-fg\">(*arrays)</span>\n<span class=\"ansi-green-intense-fg ansi-bold\">    260</span>     uniques <span class=\"ansi-blue-fg\">=</span> np<span class=\"ansi-blue-fg\">.</span>unique<span class=\"ansi-blue-fg\">(</span>lengths<span class=\"ansi-blue-fg\">)</span>\n<span class=\"ansi-green-intense-fg ansi-bold\">    261</span>     <span class=\"ansi-green-fg\">if</span> len<span class=\"ansi-blue-fg\">(</span>uniques<span class=\"ansi-blue-fg\">)</span> <span class=\"ansi-blue-fg\">&gt;</span> <span class=\"ansi-cyan-fg\">1</span><span class=\"ansi-blue-fg\">:</span>\n<span class=\"ansi-green-fg\">--&gt; 262</span><span class=\"ansi-red-fg\">         raise ValueError(&#34;Found input variables with inconsistent numbers of&#34;\n</span><span class=\"ansi-green-intense-fg ansi-bold\">    263</span>                          &#34; samples: %r&#34; % [int(l) for l in lengths])\n<span class=\"ansi-green-intense-fg ansi-bold\">    264</span> \n\n<span class=\"ansi-red-fg\">ValueError</span>: Found input variables with inconsistent numbers of samples: [72, 287]</div>",
       "errorSummary": "<span class=\"ansi-red-fg\">ValueError</span>: Found input variables with inconsistent numbers of samples: [72, 287]",
       "metadata": {},
       "errorTraceType": "html",
       "type": "ipynbError",
       "arguments": {}
      }
     },
     "data": {
      "text/html": [
       "<style scoped>\n  .ansiout {\n    display: block;\n    unicode-bidi: embed;\n    white-space: pre-wrap;\n    word-wrap: break-word;\n    word-break: break-all;\n    font-family: \"Source Code Pro\", \"Menlo\", monospace;;\n    font-size: 13px;\n    color: #555;\n    margin-left: 4px;\n    line-height: 19px;\n  }\n</style>\n<div class=\"ansiout\"><span class=\"ansi-red-fg\">---------------------------------------------------------------------------</span>\n<span class=\"ansi-red-fg\">ValueError</span>                                Traceback (most recent call last)\n<span class=\"ansi-green-fg\">&lt;command-4137882028432903&gt;</span> in <span class=\"ansi-cyan-fg\">&lt;module&gt;</span>\n<span class=\"ansi-green-intense-fg ansi-bold\">      1</span> <span class=\"ansi-green-fg\">from</span> sklearn<span class=\"ansi-blue-fg\">.</span>model_selection <span class=\"ansi-green-fg\">import</span> cross_validate\n<span class=\"ansi-green-intense-fg ansi-bold\">      2</span> \n<span class=\"ansi-green-fg\">----&gt; 3</span><span class=\"ansi-red-fg\"> </span>cv_results <span class=\"ansi-blue-fg\">=</span> cross_validate<span class=\"ansi-blue-fg\">(</span>model<span class=\"ansi-blue-fg\">,</span> data_test<span class=\"ansi-blue-fg\">,</span> target<span class=\"ansi-blue-fg\">,</span> cv<span class=\"ansi-blue-fg\">=</span><span class=\"ansi-cyan-fg\">10</span><span class=\"ansi-blue-fg\">,</span> scoring <span class=\"ansi-blue-fg\">=</span> <span class=\"ansi-blue-fg\">&#39;r2&#39;</span><span class=\"ansi-blue-fg\">)</span>\n<span class=\"ansi-green-intense-fg ansi-bold\">      4</span> cv_results\n\n<span class=\"ansi-green-fg\">/databricks/python/lib/python3.8/site-packages/sklearn/utils/validation.py</span> in <span class=\"ansi-cyan-fg\">inner_f</span><span class=\"ansi-blue-fg\">(*args, **kwargs)</span>\n<span class=\"ansi-green-intense-fg ansi-bold\">     61</span>             extra_args <span class=\"ansi-blue-fg\">=</span> len<span class=\"ansi-blue-fg\">(</span>args<span class=\"ansi-blue-fg\">)</span> <span class=\"ansi-blue-fg\">-</span> len<span class=\"ansi-blue-fg\">(</span>all_args<span class=\"ansi-blue-fg\">)</span>\n<span class=\"ansi-green-intense-fg ansi-bold\">     62</span>             <span class=\"ansi-green-fg\">if</span> extra_args <span class=\"ansi-blue-fg\">&lt;=</span> <span class=\"ansi-cyan-fg\">0</span><span class=\"ansi-blue-fg\">:</span>\n<span class=\"ansi-green-fg\">---&gt; 63</span><span class=\"ansi-red-fg\">                 </span><span class=\"ansi-green-fg\">return</span> f<span class=\"ansi-blue-fg\">(</span><span class=\"ansi-blue-fg\">*</span>args<span class=\"ansi-blue-fg\">,</span> <span class=\"ansi-blue-fg\">**</span>kwargs<span class=\"ansi-blue-fg\">)</span>\n<span class=\"ansi-green-intense-fg ansi-bold\">     64</span> \n<span class=\"ansi-green-intense-fg ansi-bold\">     65</span>             <span class=\"ansi-red-fg\"># extra_args &gt; 0</span>\n\n<span class=\"ansi-green-fg\">/databricks/python/lib/python3.8/site-packages/sklearn/model_selection/_validation.py</span> in <span class=\"ansi-cyan-fg\">cross_validate</span><span class=\"ansi-blue-fg\">(estimator, X, y, groups, scoring, cv, n_jobs, verbose, fit_params, pre_dispatch, return_train_score, return_estimator, error_score)</span>\n<span class=\"ansi-green-intense-fg ansi-bold\">    229</span> \n<span class=\"ansi-green-intense-fg ansi-bold\">    230</span>     &#34;&#34;&#34;\n<span class=\"ansi-green-fg\">--&gt; 231</span><span class=\"ansi-red-fg\">     </span>X<span class=\"ansi-blue-fg\">,</span> y<span class=\"ansi-blue-fg\">,</span> groups <span class=\"ansi-blue-fg\">=</span> indexable<span class=\"ansi-blue-fg\">(</span>X<span class=\"ansi-blue-fg\">,</span> y<span class=\"ansi-blue-fg\">,</span> groups<span class=\"ansi-blue-fg\">)</span>\n<span class=\"ansi-green-intense-fg ansi-bold\">    232</span> \n<span class=\"ansi-green-intense-fg ansi-bold\">    233</span>     cv <span class=\"ansi-blue-fg\">=</span> check_cv<span class=\"ansi-blue-fg\">(</span>cv<span class=\"ansi-blue-fg\">,</span> y<span class=\"ansi-blue-fg\">,</span> classifier<span class=\"ansi-blue-fg\">=</span>is_classifier<span class=\"ansi-blue-fg\">(</span>estimator<span class=\"ansi-blue-fg\">)</span><span class=\"ansi-blue-fg\">)</span>\n\n<span class=\"ansi-green-fg\">/databricks/python/lib/python3.8/site-packages/sklearn/utils/validation.py</span> in <span class=\"ansi-cyan-fg\">indexable</span><span class=\"ansi-blue-fg\">(*iterables)</span>\n<span class=\"ansi-green-intense-fg ansi-bold\">    297</span>     &#34;&#34;&#34;\n<span class=\"ansi-green-intense-fg ansi-bold\">    298</span>     result <span class=\"ansi-blue-fg\">=</span> <span class=\"ansi-blue-fg\">[</span>_make_indexable<span class=\"ansi-blue-fg\">(</span>X<span class=\"ansi-blue-fg\">)</span> <span class=\"ansi-green-fg\">for</span> X <span class=\"ansi-green-fg\">in</span> iterables<span class=\"ansi-blue-fg\">]</span>\n<span class=\"ansi-green-fg\">--&gt; 299</span><span class=\"ansi-red-fg\">     </span>check_consistent_length<span class=\"ansi-blue-fg\">(</span><span class=\"ansi-blue-fg\">*</span>result<span class=\"ansi-blue-fg\">)</span>\n<span class=\"ansi-green-intense-fg ansi-bold\">    300</span>     <span class=\"ansi-green-fg\">return</span> result\n<span class=\"ansi-green-intense-fg ansi-bold\">    301</span> \n\n<span class=\"ansi-green-fg\">/databricks/python/lib/python3.8/site-packages/sklearn/utils/validation.py</span> in <span class=\"ansi-cyan-fg\">check_consistent_length</span><span class=\"ansi-blue-fg\">(*arrays)</span>\n<span class=\"ansi-green-intense-fg ansi-bold\">    260</span>     uniques <span class=\"ansi-blue-fg\">=</span> np<span class=\"ansi-blue-fg\">.</span>unique<span class=\"ansi-blue-fg\">(</span>lengths<span class=\"ansi-blue-fg\">)</span>\n<span class=\"ansi-green-intense-fg ansi-bold\">    261</span>     <span class=\"ansi-green-fg\">if</span> len<span class=\"ansi-blue-fg\">(</span>uniques<span class=\"ansi-blue-fg\">)</span> <span class=\"ansi-blue-fg\">&gt;</span> <span class=\"ansi-cyan-fg\">1</span><span class=\"ansi-blue-fg\">:</span>\n<span class=\"ansi-green-fg\">--&gt; 262</span><span class=\"ansi-red-fg\">         raise ValueError(&#34;Found input variables with inconsistent numbers of&#34;\n</span><span class=\"ansi-green-intense-fg ansi-bold\">    263</span>                          &#34; samples: %r&#34; % [int(l) for l in lengths])\n<span class=\"ansi-green-intense-fg ansi-bold\">    264</span> \n\n<span class=\"ansi-red-fg\">ValueError</span>: Found input variables with inconsistent numbers of samples: [72, 287]</div>"
      ]
     }
    }
   ],
   "execution_count": 0
  },
  {
   "cell_type": "code",
   "source": [
    "scores = cv_results[\"test_score\"]\n",
    "print(\"The mean cross-validation accuracy is: \"\n",
    "      f\"{scores.mean():.3f} ± {scores.std():.3f}\")"
   ],
   "metadata": {
    "application/vnd.databricks.v1+cell": {
     "title": "",
     "showTitle": false,
     "inputWidgets": {},
     "nuid": "05e101a2-9154-4d4d-b059-541211117784"
    },
    "pycharm": {
     "name": "#%%\n"
    }
   },
   "outputs": [
    {
     "output_type": "display_data",
     "metadata": {
      "application/vnd.databricks.v1+output": {
       "data": "",
       "errorSummary": "Command skipped",
       "metadata": {},
       "errorTraceType": "html",
       "type": "ipynbError",
       "arguments": {}
      }
     },
     "data": {
      "text/html": [
       "<style scoped>\n  .ansiout {\n    display: block;\n    unicode-bidi: embed;\n    white-space: pre-wrap;\n    word-wrap: break-word;\n    word-break: break-all;\n    font-family: \"Source Code Pro\", \"Menlo\", monospace;;\n    font-size: 13px;\n    color: #555;\n    margin-left: 4px;\n    line-height: 19px;\n  }\n</style>"
      ]
     }
    }
   ],
   "execution_count": 0
  },
  {
   "cell_type": "code",
   "source": [
    "print(cv_results[\"test_score\"])"
   ],
   "metadata": {
    "application/vnd.databricks.v1+cell": {
     "title": "",
     "showTitle": false,
     "inputWidgets": {},
     "nuid": "6d62e4f4-adc1-48f9-8c12-f25154f4f0bf"
    },
    "pycharm": {
     "name": "#%%\n"
    }
   },
   "outputs": [
    {
     "output_type": "display_data",
     "metadata": {
      "application/vnd.databricks.v1+output": {
       "data": "",
       "errorSummary": "Command skipped",
       "metadata": {},
       "errorTraceType": "html",
       "type": "ipynbError",
       "arguments": {}
      }
     },
     "data": {
      "text/html": [
       "<style scoped>\n  .ansiout {\n    display: block;\n    unicode-bidi: embed;\n    white-space: pre-wrap;\n    word-wrap: break-word;\n    word-break: break-all;\n    font-family: \"Source Code Pro\", \"Menlo\", monospace;;\n    font-size: 13px;\n    color: #555;\n    margin-left: 4px;\n    line-height: 19px;\n  }\n</style>"
      ]
     }
    }
   ],
   "execution_count": 0
  }
 ],
 "metadata": {
  "application/vnd.databricks.v1+notebook": {
   "notebookName": "SKU Squad - Novelty CS Prediction - Model 1",
   "dashboards": [],
   "notebookMetadata": {
    "pythonIndentUnit": 2
   },
   "language": "python",
   "widgets": {},
   "notebookOrigID": 2450012636653232
  }
 },
 "nbformat": 4,
 "nbformat_minor": 0
}